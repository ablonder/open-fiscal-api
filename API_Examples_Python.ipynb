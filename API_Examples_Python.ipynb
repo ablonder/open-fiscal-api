{
 "cells": [
  {
   "cell_type": "markdown",
   "metadata": {},
   "source": [
    "# Open FI$CAL API Python Examples\n",
    "\n",
    "This document contains Python code that demonstrates how to access the demo Open FI$Cal API, located at https://catalog.ogopendata.com/.\n",
    "\n",
    "See also the documentation for the [CKAN API](https://docs.ckan.org/en/2.8/api/) and the [CKAN Datastore API](https://docs.ckan.org/en/ckan-2.7.3/maintaining/datastore.html#the-datastore-api).\n",
    "\n",
    "Note that this is a demo API that returns a limit of 32000 rows per request, so we have so work around that."
   ]
  },
  {
   "cell_type": "markdown",
   "metadata": {},
   "source": [
    "# Load Dependencies\n",
    "\n",
    "If these aren't installed, you can install them by opening a terminal and running `conda install module_name` or `pip install module_name` (e.g. conda install pandas)."
   ]
  },
  {
   "cell_type": "code",
   "execution_count": 1,
   "metadata": {},
   "outputs": [
    {
     "data": {
      "text/html": [
       "        <script type=\"text/javascript\">\n",
       "        window.PlotlyConfig = {MathJaxConfig: 'local'};\n",
       "        if (window.MathJax) {MathJax.Hub.Config({SVG: {font: \"STIX-Web\"}});}\n",
       "        if (typeof require !== 'undefined') {\n",
       "        require.undef(\"plotly\");\n",
       "        requirejs.config({\n",
       "            paths: {\n",
       "                'plotly': ['https://cdn.plot.ly/plotly-latest.min']\n",
       "            }\n",
       "        });\n",
       "        require(['plotly'], function(Plotly) {\n",
       "            window._Plotly = Plotly;\n",
       "        });\n",
       "        }\n",
       "        </script>\n",
       "        "
      ]
     },
     "metadata": {},
     "output_type": "display_data"
    }
   ],
   "source": [
    "import pandas as pd # dataframe tool\n",
    "import requests # sends http requests to API\n",
    "import json # turn responses into json format\n",
    "import pprint # makes json format easier to read\n",
    "import cufflinks as cf # for charts\n",
    "cf.go_offline()"
   ]
  },
  {
   "cell_type": "markdown",
   "metadata": {},
   "source": [
    "# Get Resource IDs\n",
    "\n",
    "First, we will use the CKAN API to get all the information about the `california-expenditure-data` package (dataset) and extract the IDs for each resource (month). The data is organized so that each unique resource ID is one month of data.\n",
    "\n",
    "We will use these resource IDs for requesting data later."
   ]
  },
  {
   "cell_type": "code",
   "execution_count": 3,
   "metadata": {},
   "outputs": [
    {
     "name": "stdout",
     "output_type": "stream",
     "text": [
      "First 5 entries:\n"
     ]
    },
    {
     "data": {
      "text/plain": [
       "[{'resource_id': 'cc491680-1eb0-42d2-8dac-47a2f1204d3e',\n",
       "  'description': 'Vendor Transactions for Fiscal Year 2019 Period 5 (November 2019)'},\n",
       " {'resource_id': '3e5b9f4e-c1dc-4752-bb38-096d480ca3f1',\n",
       "  'description': 'Vendor Transactions for Fiscal Year 2019 Period 4 (October 2019)'},\n",
       " {'resource_id': '02129231-0d2e-4028-a955-eb35f6123c3e',\n",
       "  'description': 'Vendor Transactions for Fiscal Year 2019 Period 3 (September 2019)'},\n",
       " {'resource_id': '3dc2cfff-0d33-412f-ba6e-d930958db3b7',\n",
       "  'description': 'Vendor Transactions for Fiscal Year 2019 Period 2 (August 2019)'},\n",
       " {'resource_id': '0f261581-45ab-413d-bc05-d7571e73ba8b',\n",
       "  'description': 'Vendor Transactions for Fiscal Year 2019 Period 1 (July 2019)'}]"
      ]
     },
     "execution_count": 3,
     "metadata": {},
     "output_type": "execute_result"
    }
   ],
   "source": [
    "# url for the API package\n",
    "url = 'https://catalog.ogopendata.com/api/3/action/package_show?id=california-expenditure-data'\n",
    "\n",
    "# use requests to get the API response\n",
    "response = requests.get(url)\n",
    "\n",
    "# put the response in json format\n",
    "response_json = response.json()\n",
    "\n",
    "# create an empty dictionary list to hold of all the resource IDs\n",
    "resource_dictionary = []\n",
    "\n",
    "# loop through the list of resources in the response\n",
    "for x in response_json['result']['resources']:\n",
    "\n",
    "    # append the resource id and description to the resource dictionary\n",
    "    post = {\n",
    "        'resource_id' : x['id'],\n",
    "        'description' : x['description']\n",
    "    }\n",
    "    \n",
    "    resource_dictionary.append(post)\n",
    "\n",
    "# remove the first entry which is a dictionary and metadata\n",
    "resource_dictionary.pop(0)\n",
    "\n",
    "# preview the first 5 dictionary entries\n",
    "print('First 5 entries:')\n",
    "resource_dictionary[:5]"
   ]
  },
  {
   "cell_type": "markdown",
   "metadata": {},
   "source": [
    "# Getting Data from a Single Resource (month)\n",
    "Now that we know all of the resource IDs, we can pull the for a specific month.\n",
    "\n",
    "Note that the demo API limits us to 32000 rows per resource ID request, so we need to use the `offset` parameter to skip 32000 rows of data for each request until we retrieve all the data."
   ]
  },
  {
   "cell_type": "code",
   "execution_count": 4,
   "metadata": {},
   "outputs": [
    {
     "data": {
      "text/html": [
       "<div>\n",
       "<style scoped>\n",
       "    .dataframe tbody tr th:only-of-type {\n",
       "        vertical-align: middle;\n",
       "    }\n",
       "\n",
       "    .dataframe tbody tr th {\n",
       "        vertical-align: top;\n",
       "    }\n",
       "\n",
       "    .dataframe thead th {\n",
       "        text-align: right;\n",
       "    }\n",
       "</style>\n",
       "<table border=\"1\" class=\"dataframe\">\n",
       "  <thead>\n",
       "    <tr style=\"text-align: right;\">\n",
       "      <th></th>\n",
       "      <th>Account Category</th>\n",
       "      <th>Budget Reference Sub-Category</th>\n",
       "      <th>Accounting Period</th>\n",
       "      <th>Account Description</th>\n",
       "      <th>Business Unit</th>\n",
       "      <th>Agency Name</th>\n",
       "      <th>Related Document</th>\n",
       "      <th>Account Type</th>\n",
       "      <th>Year of Enactment</th>\n",
       "      <th>Budget Reference Category</th>\n",
       "      <th>...</th>\n",
       "      <th>Department Name</th>\n",
       "      <th>Program Description</th>\n",
       "      <th>Budget Reference Description</th>\n",
       "      <th>Fund Description</th>\n",
       "      <th>Monetary Amount</th>\n",
       "      <th>Program Code</th>\n",
       "      <th>Fund Group</th>\n",
       "      <th>Vendor Name</th>\n",
       "      <th>_id</th>\n",
       "      <th>Fund Code</th>\n",
       "    </tr>\n",
       "  </thead>\n",
       "  <tbody>\n",
       "    <tr>\n",
       "      <th>0</th>\n",
       "      <td>Other Items of Expense</td>\n",
       "      <td>Budget Act</td>\n",
       "      <td>5</td>\n",
       "      <td>Food</td>\n",
       "      <td>8955</td>\n",
       "      <td>General Government</td>\n",
       "      <td>None</td>\n",
       "      <td>Operating Expense &amp; Equipment</td>\n",
       "      <td>2019</td>\n",
       "      <td>State Operations</td>\n",
       "      <td>...</td>\n",
       "      <td>Dept of Veterans Affairs</td>\n",
       "      <td>Clearing Account</td>\n",
       "      <td>BA State Operations-Support001</td>\n",
       "      <td>General Fund</td>\n",
       "      <td>17.14</td>\n",
       "      <td>9999000</td>\n",
       "      <td>General Fund</td>\n",
       "      <td>US FOODS INC</td>\n",
       "      <td>1</td>\n",
       "      <td>0001</td>\n",
       "    </tr>\n",
       "    <tr>\n",
       "      <th>1</th>\n",
       "      <td>Other Items of Expense</td>\n",
       "      <td>Budget Act</td>\n",
       "      <td>5</td>\n",
       "      <td>Food</td>\n",
       "      <td>8955</td>\n",
       "      <td>General Government</td>\n",
       "      <td>None</td>\n",
       "      <td>Operating Expense &amp; Equipment</td>\n",
       "      <td>2019</td>\n",
       "      <td>State Operations</td>\n",
       "      <td>...</td>\n",
       "      <td>Dept of Veterans Affairs</td>\n",
       "      <td>Clearing Account</td>\n",
       "      <td>BA State Operations-Support001</td>\n",
       "      <td>General Fund</td>\n",
       "      <td>102.84</td>\n",
       "      <td>9999000</td>\n",
       "      <td>General Fund</td>\n",
       "      <td>US FOODS INC</td>\n",
       "      <td>2</td>\n",
       "      <td>0001</td>\n",
       "    </tr>\n",
       "    <tr>\n",
       "      <th>2</th>\n",
       "      <td>Other Items of Expense</td>\n",
       "      <td>Budget Act</td>\n",
       "      <td>5</td>\n",
       "      <td>Food</td>\n",
       "      <td>8955</td>\n",
       "      <td>General Government</td>\n",
       "      <td>None</td>\n",
       "      <td>Operating Expense &amp; Equipment</td>\n",
       "      <td>2019</td>\n",
       "      <td>State Operations</td>\n",
       "      <td>...</td>\n",
       "      <td>Dept of Veterans Affairs</td>\n",
       "      <td>Clearing Account</td>\n",
       "      <td>BA State Operations-Support001</td>\n",
       "      <td>General Fund</td>\n",
       "      <td>136.55</td>\n",
       "      <td>9999000</td>\n",
       "      <td>General Fund</td>\n",
       "      <td>US FOODS INC</td>\n",
       "      <td>3</td>\n",
       "      <td>0001</td>\n",
       "    </tr>\n",
       "    <tr>\n",
       "      <th>3</th>\n",
       "      <td>Other Items of Expense</td>\n",
       "      <td>Budget Act</td>\n",
       "      <td>5</td>\n",
       "      <td>Food</td>\n",
       "      <td>8955</td>\n",
       "      <td>General Government</td>\n",
       "      <td>None</td>\n",
       "      <td>Operating Expense &amp; Equipment</td>\n",
       "      <td>2019</td>\n",
       "      <td>State Operations</td>\n",
       "      <td>...</td>\n",
       "      <td>Dept of Veterans Affairs</td>\n",
       "      <td>Clearing Account</td>\n",
       "      <td>BA State Operations-Support001</td>\n",
       "      <td>General Fund</td>\n",
       "      <td>94.12</td>\n",
       "      <td>9999000</td>\n",
       "      <td>General Fund</td>\n",
       "      <td>US FOODS INC</td>\n",
       "      <td>4</td>\n",
       "      <td>0001</td>\n",
       "    </tr>\n",
       "    <tr>\n",
       "      <th>4</th>\n",
       "      <td>Other Items of Expense</td>\n",
       "      <td>Budget Act</td>\n",
       "      <td>5</td>\n",
       "      <td>Food</td>\n",
       "      <td>8955</td>\n",
       "      <td>General Government</td>\n",
       "      <td>None</td>\n",
       "      <td>Operating Expense &amp; Equipment</td>\n",
       "      <td>2019</td>\n",
       "      <td>State Operations</td>\n",
       "      <td>...</td>\n",
       "      <td>Dept of Veterans Affairs</td>\n",
       "      <td>Clearing Account</td>\n",
       "      <td>BA State Operations-Support001</td>\n",
       "      <td>General Fund</td>\n",
       "      <td>30.42</td>\n",
       "      <td>9999000</td>\n",
       "      <td>General Fund</td>\n",
       "      <td>US FOODS INC</td>\n",
       "      <td>5</td>\n",
       "      <td>0001</td>\n",
       "    </tr>\n",
       "  </tbody>\n",
       "</table>\n",
       "<p>5 rows × 27 columns</p>\n",
       "</div>"
      ],
      "text/plain": [
       "         Account Category Budget Reference Sub-Category Accounting Period  \\\n",
       "0  Other Items of Expense                    Budget Act                 5   \n",
       "1  Other Items of Expense                    Budget Act                 5   \n",
       "2  Other Items of Expense                    Budget Act                 5   \n",
       "3  Other Items of Expense                    Budget Act                 5   \n",
       "4  Other Items of Expense                    Budget Act                 5   \n",
       "\n",
       "  Account Description Business Unit         Agency Name Related Document  \\\n",
       "0                Food          8955  General Government             None   \n",
       "1                Food          8955  General Government             None   \n",
       "2                Food          8955  General Government             None   \n",
       "3                Food          8955  General Government             None   \n",
       "4                Food          8955  General Government             None   \n",
       "\n",
       "                    Account Type Year of Enactment Budget Reference Category  \\\n",
       "0  Operating Expense & Equipment              2019          State Operations   \n",
       "1  Operating Expense & Equipment              2019          State Operations   \n",
       "2  Operating Expense & Equipment              2019          State Operations   \n",
       "3  Operating Expense & Equipment              2019          State Operations   \n",
       "4  Operating Expense & Equipment              2019          State Operations   \n",
       "\n",
       "   ...           Department Name Program Description  \\\n",
       "0  ...  Dept of Veterans Affairs    Clearing Account   \n",
       "1  ...  Dept of Veterans Affairs    Clearing Account   \n",
       "2  ...  Dept of Veterans Affairs    Clearing Account   \n",
       "3  ...  Dept of Veterans Affairs    Clearing Account   \n",
       "4  ...  Dept of Veterans Affairs    Clearing Account   \n",
       "\n",
       "     Budget Reference Description Fund Description Monetary Amount  \\\n",
       "0  BA State Operations-Support001     General Fund           17.14   \n",
       "1  BA State Operations-Support001     General Fund          102.84   \n",
       "2  BA State Operations-Support001     General Fund          136.55   \n",
       "3  BA State Operations-Support001     General Fund           94.12   \n",
       "4  BA State Operations-Support001     General Fund           30.42   \n",
       "\n",
       "  Program Code    Fund Group   Vendor Name _id Fund Code  \n",
       "0      9999000  General Fund  US FOODS INC   1      0001  \n",
       "1      9999000  General Fund  US FOODS INC   2      0001  \n",
       "2      9999000  General Fund  US FOODS INC   3      0001  \n",
       "3      9999000  General Fund  US FOODS INC   4      0001  \n",
       "4      9999000  General Fund  US FOODS INC   5      0001  \n",
       "\n",
       "[5 rows x 27 columns]"
      ]
     },
     "metadata": {},
     "output_type": "display_data"
    },
    {
     "name": "stdout",
     "output_type": "stream",
     "text": [
      "<class 'pandas.core.frame.DataFrame'>\n",
      "RangeIndex: 255819 entries, 0 to 255818\n",
      "Data columns (total 27 columns):\n",
      "Account Category                 255819 non-null object\n",
      "Budget Reference Sub-Category    255817 non-null object\n",
      "Accounting Period                255819 non-null object\n",
      "Account Description              255819 non-null object\n",
      "Business Unit                    255819 non-null object\n",
      "Agency Name                      255819 non-null object\n",
      "Related Document                 0 non-null object\n",
      "Account Type                     255819 non-null object\n",
      "Year of Enactment                255819 non-null object\n",
      "Budget Reference Category        255817 non-null object\n",
      "Budget Reference                 255817 non-null object\n",
      "Sub-Program Description          255817 non-null object\n",
      "Accounting Date                  255819 non-null object\n",
      "Account Sub-Category             255819 non-null object\n",
      "Fiscal Year Begin                255819 non-null object\n",
      "Account                          255819 non-null object\n",
      "Document ID                      255819 non-null object\n",
      "Department Name                  255819 non-null object\n",
      "Program Description              255817 non-null object\n",
      "Budget Reference Description     255817 non-null object\n",
      "Fund Description                 255819 non-null object\n",
      "Monetary Amount                  255819 non-null object\n",
      "Program Code                     255817 non-null object\n",
      "Fund Group                       255819 non-null object\n",
      "Vendor Name                      255819 non-null object\n",
      "_id                              255819 non-null int64\n",
      "Fund Code                        255819 non-null object\n",
      "dtypes: int64(1), object(26)\n",
      "memory usage: 52.7+ MB\n"
     ]
    },
    {
     "data": {
      "text/plain": [
       "None"
      ]
     },
     "metadata": {},
     "output_type": "display_data"
    }
   ],
   "source": [
    "# url for API\n",
    "url = 'https://catalog.ogopendata.com/api/3/action/datastore_search?'\n",
    "\n",
    "# resource ID for desired month, this is november 2019\n",
    "resource_id = 'cc491680-1eb0-42d2-8dac-47a2f1204d3e'\n",
    "\n",
    "# create an empty list to hold responses for the dataframe\n",
    "df_list = []\n",
    "\n",
    "# the API limits us to 32000 rows of data, so we need to send a new request every 32000 rows\n",
    "# this parameter allows us to skip rows for each request\n",
    "offset = 0\n",
    "\n",
    "# set response length > 0 to initialize the loop below\n",
    "response_length = 1\n",
    "\n",
    "# continue to make http requests as long as we keep getting responses\n",
    "while response_length > 0: \n",
    "    \n",
    "    # these are the paramaters we send with the http API request\n",
    "    params = {\n",
    "        'resource_id' : resource_id, # resource ID\n",
    "        'limit' : 1000000, # the default is 100, we need more than that\n",
    "        'offset' : offset # this will increase by 32000 for each request\n",
    "    }\n",
    "    \n",
    "    # get the response\n",
    "    response = requests.get(url, params=params).json()\n",
    "    \n",
    "    # loop through each transaction in the response and append to our list\n",
    "    for x in response['result']['records']:\n",
    "        df_list.append(x)\n",
    "    \n",
    "    # increase offset since we only get 32000 rows per response\n",
    "    offset += 32000\n",
    "    \n",
    "    # set the response length so the loop stops when we no longer return any data\n",
    "    response_length = len(response['result']['records'])\n",
    "    \n",
    "# turn the df_list into a pandas dataframe\n",
    "df = pd.DataFrame(df_list)\n",
    "\n",
    "# preview the dataframe and show some info about the dataframe\n",
    "display(df.head())\n",
    "display(df.info())"
   ]
  },
  {
   "cell_type": "markdown",
   "metadata": {},
   "source": [
    "## Data Processing\n",
    "\n",
    "Many of the columns are in `string` format, so we should convert them to a `numerical` format, convert the accounting date column to `datetime` format, drop the empty `Related Document` column, and drop rows with null fields. "
   ]
  },
  {
   "cell_type": "code",
   "execution_count": 5,
   "metadata": {},
   "outputs": [
    {
     "name": "stdout",
     "output_type": "stream",
     "text": [
      "<class 'pandas.core.frame.DataFrame'>\n",
      "Int64Index: 255817 entries, 0 to 255818\n",
      "Data columns (total 26 columns):\n",
      "Account Category                 255817 non-null object\n",
      "Budget Reference Sub-Category    255817 non-null object\n",
      "Accounting Period                255817 non-null int32\n",
      "Account Description              255817 non-null object\n",
      "Business Unit                    255817 non-null object\n",
      "Agency Name                      255817 non-null object\n",
      "Account Type                     255817 non-null object\n",
      "Year of Enactment                255817 non-null int32\n",
      "Budget Reference Category        255817 non-null object\n",
      "Budget Reference                 255817 non-null object\n",
      "Sub-Program Description          255817 non-null object\n",
      "Accounting Date                  255817 non-null datetime64[ns]\n",
      "Account Sub-Category             255817 non-null object\n",
      "Fiscal Year Begin                255817 non-null int32\n",
      "Account                          255817 non-null object\n",
      "Document ID                      255817 non-null object\n",
      "Department Name                  255817 non-null object\n",
      "Program Description              255817 non-null object\n",
      "Budget Reference Description     255817 non-null object\n",
      "Fund Description                 255817 non-null object\n",
      "Monetary Amount                  255817 non-null float64\n",
      "Program Code                     255817 non-null object\n",
      "Fund Group                       255817 non-null object\n",
      "Vendor Name                      255817 non-null object\n",
      "_id                              255817 non-null int64\n",
      "Fund Code                        255817 non-null object\n",
      "dtypes: datetime64[ns](1), float64(1), int32(3), int64(1), object(20)\n",
      "memory usage: 49.8+ MB\n"
     ]
    }
   ],
   "source": [
    "# make a df copy for cleaning\n",
    "df_clean = df.copy()\n",
    "\n",
    "# note above how many of the columns are in object/string format, so lets change some to numerical values\n",
    "df_clean = df_clean.astype({\n",
    "    'Accounting Period' : 'int32',\n",
    "    'Year of Enactment' : 'int32',\n",
    "    'Monetary Amount' : 'float',\n",
    "    'Fiscal Year Begin' : 'int32'\n",
    "})\n",
    "\n",
    "# convert accounting dates to datetime format\n",
    "df_clean['Accounting Date'] = pd.to_datetime(df_clean['Accounting Date'])\n",
    "\n",
    "# drop the empty related document column\n",
    "df_clean.drop(labels='Related Document', axis=1, inplace=True)\n",
    "\n",
    "# drop rows with nulls\n",
    "df_clean.dropna(inplace=True)\n",
    "\n",
    "# preview results\n",
    "df_clean.info()"
   ]
  },
  {
   "cell_type": "markdown",
   "metadata": {},
   "source": [
    "## Data Exploration\n",
    "We can use pandas to explore the data a bit, for instance we can view the vendors by `Monetary Amount` or total transactions."
   ]
  },
  {
   "cell_type": "code",
   "execution_count": 6,
   "metadata": {},
   "outputs": [
    {
     "data": {
      "text/plain": [
       "Vendor Name\n",
       "ST FRANCIS MEDICAL CENTER        -1.031823e+07\n",
       "THE STATE BAR OF CALIFORNIA      -9.996484e+06\n",
       "FDN FOR CA COMMUNITY COLLEGES    -1.571456e+06\n",
       "US GEOLOGICAL SURVEY             -3.584535e+05\n",
       "ALLEN COMM LEARNING SERVICES     -1.806633e+05\n",
       "                                      ...     \n",
       "DEPT OF WATER RESOURCES           1.556148e+08\n",
       "DEPT OF DEVELOPMENTAL SERVICES    2.454861e+08\n",
       "CA STUDENT AID COMMISSION         2.650225e+08\n",
       "TREASURER OF LOS ANGELES CNTY     2.686897e+08\n",
       "DEPT OF SOCIAL SERVICES           4.708493e+08\n",
       "Name: Monetary Amount, Length: 14444, dtype: float64"
      ]
     },
     "execution_count": 6,
     "metadata": {},
     "output_type": "execute_result"
    }
   ],
   "source": [
    "# group by vendor name and sum \"Monetary Amount\"\n",
    "vendor_monetary_sum = df_clean.groupby(['Vendor Name']).agg('sum').sort_values(by='Monetary Amount')['Monetary Amount']\n",
    "vendor_monetary_sum"
   ]
  },
  {
   "cell_type": "code",
   "execution_count": 9,
   "metadata": {},
   "outputs": [
    {
     "data": {
      "application/vnd.plotly.v1+json": {
       "config": {
        "linkText": "Export to plot.ly",
        "plotlyServerURL": "https://plot.ly",
        "showLink": true
       },
       "data": [
        {
         "marker": {
          "color": "rgba(255, 153, 51, 0.6)",
          "line": {
           "color": "rgba(255, 153, 51, 1.0)",
           "width": 1
          }
         },
         "name": "Monetary Amount",
         "orientation": "h",
         "text": "",
         "type": "bar",
         "x": [
          55300371.510000035,
          66486108.770000465,
          71201343,
          76762910.83999994,
          111226584.06000036,
          155614808.18999997,
          245486116.48,
          265022500,
          268689709.17000014,
          470849332.03
         ],
         "y": [
          "TREASURER OF COUNTY OF ALAMEDA",
          "DEPT OF GENERAL SERVICES",
          "SAC REG CNTY SANITATION DIST",
          "DEPT FORESTRY & FIRE PROTECT",
          "Confidential",
          "DEPT OF WATER RESOURCES",
          "DEPT OF DEVELOPMENTAL SERVICES",
          "CA STUDENT AID COMMISSION",
          "TREASURER OF LOS ANGELES CNTY",
          "DEPT OF SOCIAL SERVICES"
         ]
        }
       ],
       "layout": {
        "autosize": true,
        "legend": {
         "bgcolor": "#F5F6F9",
         "font": {
          "color": "#4D5663"
         }
        },
        "paper_bgcolor": "#F5F6F9",
        "plot_bgcolor": "#F5F6F9",
        "template": {
         "data": {
          "bar": [
           {
            "error_x": {
             "color": "#2a3f5f"
            },
            "error_y": {
             "color": "#2a3f5f"
            },
            "marker": {
             "line": {
              "color": "#E5ECF6",
              "width": 0.5
             }
            },
            "type": "bar"
           }
          ],
          "barpolar": [
           {
            "marker": {
             "line": {
              "color": "#E5ECF6",
              "width": 0.5
             }
            },
            "type": "barpolar"
           }
          ],
          "carpet": [
           {
            "aaxis": {
             "endlinecolor": "#2a3f5f",
             "gridcolor": "white",
             "linecolor": "white",
             "minorgridcolor": "white",
             "startlinecolor": "#2a3f5f"
            },
            "baxis": {
             "endlinecolor": "#2a3f5f",
             "gridcolor": "white",
             "linecolor": "white",
             "minorgridcolor": "white",
             "startlinecolor": "#2a3f5f"
            },
            "type": "carpet"
           }
          ],
          "choropleth": [
           {
            "colorbar": {
             "outlinewidth": 0,
             "ticks": ""
            },
            "type": "choropleth"
           }
          ],
          "contour": [
           {
            "colorbar": {
             "outlinewidth": 0,
             "ticks": ""
            },
            "colorscale": [
             [
              0,
              "#0d0887"
             ],
             [
              0.1111111111111111,
              "#46039f"
             ],
             [
              0.2222222222222222,
              "#7201a8"
             ],
             [
              0.3333333333333333,
              "#9c179e"
             ],
             [
              0.4444444444444444,
              "#bd3786"
             ],
             [
              0.5555555555555556,
              "#d8576b"
             ],
             [
              0.6666666666666666,
              "#ed7953"
             ],
             [
              0.7777777777777778,
              "#fb9f3a"
             ],
             [
              0.8888888888888888,
              "#fdca26"
             ],
             [
              1,
              "#f0f921"
             ]
            ],
            "type": "contour"
           }
          ],
          "contourcarpet": [
           {
            "colorbar": {
             "outlinewidth": 0,
             "ticks": ""
            },
            "type": "contourcarpet"
           }
          ],
          "heatmap": [
           {
            "colorbar": {
             "outlinewidth": 0,
             "ticks": ""
            },
            "colorscale": [
             [
              0,
              "#0d0887"
             ],
             [
              0.1111111111111111,
              "#46039f"
             ],
             [
              0.2222222222222222,
              "#7201a8"
             ],
             [
              0.3333333333333333,
              "#9c179e"
             ],
             [
              0.4444444444444444,
              "#bd3786"
             ],
             [
              0.5555555555555556,
              "#d8576b"
             ],
             [
              0.6666666666666666,
              "#ed7953"
             ],
             [
              0.7777777777777778,
              "#fb9f3a"
             ],
             [
              0.8888888888888888,
              "#fdca26"
             ],
             [
              1,
              "#f0f921"
             ]
            ],
            "type": "heatmap"
           }
          ],
          "heatmapgl": [
           {
            "colorbar": {
             "outlinewidth": 0,
             "ticks": ""
            },
            "colorscale": [
             [
              0,
              "#0d0887"
             ],
             [
              0.1111111111111111,
              "#46039f"
             ],
             [
              0.2222222222222222,
              "#7201a8"
             ],
             [
              0.3333333333333333,
              "#9c179e"
             ],
             [
              0.4444444444444444,
              "#bd3786"
             ],
             [
              0.5555555555555556,
              "#d8576b"
             ],
             [
              0.6666666666666666,
              "#ed7953"
             ],
             [
              0.7777777777777778,
              "#fb9f3a"
             ],
             [
              0.8888888888888888,
              "#fdca26"
             ],
             [
              1,
              "#f0f921"
             ]
            ],
            "type": "heatmapgl"
           }
          ],
          "histogram": [
           {
            "marker": {
             "colorbar": {
              "outlinewidth": 0,
              "ticks": ""
             }
            },
            "type": "histogram"
           }
          ],
          "histogram2d": [
           {
            "colorbar": {
             "outlinewidth": 0,
             "ticks": ""
            },
            "colorscale": [
             [
              0,
              "#0d0887"
             ],
             [
              0.1111111111111111,
              "#46039f"
             ],
             [
              0.2222222222222222,
              "#7201a8"
             ],
             [
              0.3333333333333333,
              "#9c179e"
             ],
             [
              0.4444444444444444,
              "#bd3786"
             ],
             [
              0.5555555555555556,
              "#d8576b"
             ],
             [
              0.6666666666666666,
              "#ed7953"
             ],
             [
              0.7777777777777778,
              "#fb9f3a"
             ],
             [
              0.8888888888888888,
              "#fdca26"
             ],
             [
              1,
              "#f0f921"
             ]
            ],
            "type": "histogram2d"
           }
          ],
          "histogram2dcontour": [
           {
            "colorbar": {
             "outlinewidth": 0,
             "ticks": ""
            },
            "colorscale": [
             [
              0,
              "#0d0887"
             ],
             [
              0.1111111111111111,
              "#46039f"
             ],
             [
              0.2222222222222222,
              "#7201a8"
             ],
             [
              0.3333333333333333,
              "#9c179e"
             ],
             [
              0.4444444444444444,
              "#bd3786"
             ],
             [
              0.5555555555555556,
              "#d8576b"
             ],
             [
              0.6666666666666666,
              "#ed7953"
             ],
             [
              0.7777777777777778,
              "#fb9f3a"
             ],
             [
              0.8888888888888888,
              "#fdca26"
             ],
             [
              1,
              "#f0f921"
             ]
            ],
            "type": "histogram2dcontour"
           }
          ],
          "mesh3d": [
           {
            "colorbar": {
             "outlinewidth": 0,
             "ticks": ""
            },
            "type": "mesh3d"
           }
          ],
          "parcoords": [
           {
            "line": {
             "colorbar": {
              "outlinewidth": 0,
              "ticks": ""
             }
            },
            "type": "parcoords"
           }
          ],
          "pie": [
           {
            "automargin": true,
            "type": "pie"
           }
          ],
          "scatter": [
           {
            "marker": {
             "colorbar": {
              "outlinewidth": 0,
              "ticks": ""
             }
            },
            "type": "scatter"
           }
          ],
          "scatter3d": [
           {
            "line": {
             "colorbar": {
              "outlinewidth": 0,
              "ticks": ""
             }
            },
            "marker": {
             "colorbar": {
              "outlinewidth": 0,
              "ticks": ""
             }
            },
            "type": "scatter3d"
           }
          ],
          "scattercarpet": [
           {
            "marker": {
             "colorbar": {
              "outlinewidth": 0,
              "ticks": ""
             }
            },
            "type": "scattercarpet"
           }
          ],
          "scattergeo": [
           {
            "marker": {
             "colorbar": {
              "outlinewidth": 0,
              "ticks": ""
             }
            },
            "type": "scattergeo"
           }
          ],
          "scattergl": [
           {
            "marker": {
             "colorbar": {
              "outlinewidth": 0,
              "ticks": ""
             }
            },
            "type": "scattergl"
           }
          ],
          "scattermapbox": [
           {
            "marker": {
             "colorbar": {
              "outlinewidth": 0,
              "ticks": ""
             }
            },
            "type": "scattermapbox"
           }
          ],
          "scatterpolar": [
           {
            "marker": {
             "colorbar": {
              "outlinewidth": 0,
              "ticks": ""
             }
            },
            "type": "scatterpolar"
           }
          ],
          "scatterpolargl": [
           {
            "marker": {
             "colorbar": {
              "outlinewidth": 0,
              "ticks": ""
             }
            },
            "type": "scatterpolargl"
           }
          ],
          "scatterternary": [
           {
            "marker": {
             "colorbar": {
              "outlinewidth": 0,
              "ticks": ""
             }
            },
            "type": "scatterternary"
           }
          ],
          "surface": [
           {
            "colorbar": {
             "outlinewidth": 0,
             "ticks": ""
            },
            "colorscale": [
             [
              0,
              "#0d0887"
             ],
             [
              0.1111111111111111,
              "#46039f"
             ],
             [
              0.2222222222222222,
              "#7201a8"
             ],
             [
              0.3333333333333333,
              "#9c179e"
             ],
             [
              0.4444444444444444,
              "#bd3786"
             ],
             [
              0.5555555555555556,
              "#d8576b"
             ],
             [
              0.6666666666666666,
              "#ed7953"
             ],
             [
              0.7777777777777778,
              "#fb9f3a"
             ],
             [
              0.8888888888888888,
              "#fdca26"
             ],
             [
              1,
              "#f0f921"
             ]
            ],
            "type": "surface"
           }
          ],
          "table": [
           {
            "cells": {
             "fill": {
              "color": "#EBF0F8"
             },
             "line": {
              "color": "white"
             }
            },
            "header": {
             "fill": {
              "color": "#C8D4E3"
             },
             "line": {
              "color": "white"
             }
            },
            "type": "table"
           }
          ]
         },
         "layout": {
          "annotationdefaults": {
           "arrowcolor": "#2a3f5f",
           "arrowhead": 0,
           "arrowwidth": 1
          },
          "coloraxis": {
           "colorbar": {
            "outlinewidth": 0,
            "ticks": ""
           }
          },
          "colorscale": {
           "diverging": [
            [
             0,
             "#8e0152"
            ],
            [
             0.1,
             "#c51b7d"
            ],
            [
             0.2,
             "#de77ae"
            ],
            [
             0.3,
             "#f1b6da"
            ],
            [
             0.4,
             "#fde0ef"
            ],
            [
             0.5,
             "#f7f7f7"
            ],
            [
             0.6,
             "#e6f5d0"
            ],
            [
             0.7,
             "#b8e186"
            ],
            [
             0.8,
             "#7fbc41"
            ],
            [
             0.9,
             "#4d9221"
            ],
            [
             1,
             "#276419"
            ]
           ],
           "sequential": [
            [
             0,
             "#0d0887"
            ],
            [
             0.1111111111111111,
             "#46039f"
            ],
            [
             0.2222222222222222,
             "#7201a8"
            ],
            [
             0.3333333333333333,
             "#9c179e"
            ],
            [
             0.4444444444444444,
             "#bd3786"
            ],
            [
             0.5555555555555556,
             "#d8576b"
            ],
            [
             0.6666666666666666,
             "#ed7953"
            ],
            [
             0.7777777777777778,
             "#fb9f3a"
            ],
            [
             0.8888888888888888,
             "#fdca26"
            ],
            [
             1,
             "#f0f921"
            ]
           ],
           "sequentialminus": [
            [
             0,
             "#0d0887"
            ],
            [
             0.1111111111111111,
             "#46039f"
            ],
            [
             0.2222222222222222,
             "#7201a8"
            ],
            [
             0.3333333333333333,
             "#9c179e"
            ],
            [
             0.4444444444444444,
             "#bd3786"
            ],
            [
             0.5555555555555556,
             "#d8576b"
            ],
            [
             0.6666666666666666,
             "#ed7953"
            ],
            [
             0.7777777777777778,
             "#fb9f3a"
            ],
            [
             0.8888888888888888,
             "#fdca26"
            ],
            [
             1,
             "#f0f921"
            ]
           ]
          },
          "colorway": [
           "#636efa",
           "#EF553B",
           "#00cc96",
           "#ab63fa",
           "#FFA15A",
           "#19d3f3",
           "#FF6692",
           "#B6E880",
           "#FF97FF",
           "#FECB52"
          ],
          "font": {
           "color": "#2a3f5f"
          },
          "geo": {
           "bgcolor": "white",
           "lakecolor": "white",
           "landcolor": "#E5ECF6",
           "showlakes": true,
           "showland": true,
           "subunitcolor": "white"
          },
          "hoverlabel": {
           "align": "left"
          },
          "hovermode": "closest",
          "mapbox": {
           "style": "light"
          },
          "paper_bgcolor": "white",
          "plot_bgcolor": "#E5ECF6",
          "polar": {
           "angularaxis": {
            "gridcolor": "white",
            "linecolor": "white",
            "ticks": ""
           },
           "bgcolor": "#E5ECF6",
           "radialaxis": {
            "gridcolor": "white",
            "linecolor": "white",
            "ticks": ""
           }
          },
          "scene": {
           "xaxis": {
            "backgroundcolor": "#E5ECF6",
            "gridcolor": "white",
            "gridwidth": 2,
            "linecolor": "white",
            "showbackground": true,
            "ticks": "",
            "zerolinecolor": "white"
           },
           "yaxis": {
            "backgroundcolor": "#E5ECF6",
            "gridcolor": "white",
            "gridwidth": 2,
            "linecolor": "white",
            "showbackground": true,
            "ticks": "",
            "zerolinecolor": "white"
           },
           "zaxis": {
            "backgroundcolor": "#E5ECF6",
            "gridcolor": "white",
            "gridwidth": 2,
            "linecolor": "white",
            "showbackground": true,
            "ticks": "",
            "zerolinecolor": "white"
           }
          },
          "shapedefaults": {
           "line": {
            "color": "#2a3f5f"
           }
          },
          "ternary": {
           "aaxis": {
            "gridcolor": "white",
            "linecolor": "white",
            "ticks": ""
           },
           "baxis": {
            "gridcolor": "white",
            "linecolor": "white",
            "ticks": ""
           },
           "bgcolor": "#E5ECF6",
           "caxis": {
            "gridcolor": "white",
            "linecolor": "white",
            "ticks": ""
           }
          },
          "title": {
           "x": 0.05
          },
          "xaxis": {
           "automargin": true,
           "gridcolor": "white",
           "linecolor": "white",
           "ticks": "",
           "title": {
            "standoff": 15
           },
           "zerolinecolor": "white",
           "zerolinewidth": 2
          },
          "yaxis": {
           "automargin": true,
           "gridcolor": "white",
           "linecolor": "white",
           "ticks": "",
           "title": {
            "standoff": 15
           },
           "zerolinecolor": "white",
           "zerolinewidth": 2
          }
         }
        },
        "title": {
         "font": {
          "color": "#4D5663"
         },
         "text": "Top 10 Vendors by Monetary Amount (November 2019)"
        },
        "xaxis": {
         "autorange": true,
         "gridcolor": "#E1E5ED",
         "range": [
          0,
          495630875.8210526
         ],
         "showgrid": true,
         "tickfont": {
          "color": "#4D5663"
         },
         "title": {
          "font": {
           "color": "#4D5663"
          },
          "text": "Monetary Amount ($)"
         },
         "type": "linear",
         "zerolinecolor": "#E1E5ED"
        },
        "yaxis": {
         "autorange": true,
         "gridcolor": "#E1E5ED",
         "range": [
          -0.5,
          9.5
         ],
         "showgrid": true,
         "tickfont": {
          "color": "#4D5663"
         },
         "title": {
          "font": {
           "color": "#4D5663"
          },
          "text": ""
         },
         "type": "category",
         "zerolinecolor": "#E1E5ED"
        }
       }
      },
      "image/png": "[encoded data removed]",
      "text/html": [
       "<div>\n",
       "        \n",
       "        \n",
       "            <div id=\"b914fc07-c661-4491-869f-e08a05d003e8\" class=\"plotly-graph-div\" style=\"height:525px; width:100%;\"></div>\n",
       "            <script type=\"text/javascript\">\n",
       "                require([\"plotly\"], function(Plotly) {\n",
       "                    window.PLOTLYENV=window.PLOTLYENV || {};\n",
       "                    window.PLOTLYENV.BASE_URL='https://plot.ly';\n",
       "                    \n",
       "                if (document.getElementById(\"b914fc07-c661-4491-869f-e08a05d003e8\")) {\n",
       "                    Plotly.newPlot(\n",
       "                        'b914fc07-c661-4491-869f-e08a05d003e8',\n",
       "                        [{\"marker\": {\"color\": \"rgba(255, 153, 51, 0.6)\", \"line\": {\"color\": \"rgba(255, 153, 51, 1.0)\", \"width\": 1}}, \"name\": \"Monetary Amount\", \"orientation\": \"h\", \"text\": \"\", \"type\": \"bar\", \"x\": [55300371.510000035, 66486108.770000465, 71201343.0, 76762910.83999994, 111226584.06000036, 155614808.18999997, 245486116.48, 265022500.0, 268689709.17000014, 470849332.03], \"y\": [\"TREASURER OF COUNTY OF ALAMEDA\", \"DEPT OF GENERAL SERVICES\", \"SAC REG CNTY SANITATION DIST\", \"DEPT FORESTRY & FIRE PROTECT\", \"Confidential\", \"DEPT OF WATER RESOURCES\", \"DEPT OF DEVELOPMENTAL SERVICES\", \"CA STUDENT AID COMMISSION\", \"TREASURER OF LOS ANGELES CNTY\", \"DEPT OF SOCIAL SERVICES\"]}],\n",
       "                        {\"legend\": {\"bgcolor\": \"#F5F6F9\", \"font\": {\"color\": \"#4D5663\"}}, \"paper_bgcolor\": \"#F5F6F9\", \"plot_bgcolor\": \"#F5F6F9\", \"template\": {\"data\": {\"bar\": [{\"error_x\": {\"color\": \"#2a3f5f\"}, \"error_y\": {\"color\": \"#2a3f5f\"}, \"marker\": {\"line\": {\"color\": \"#E5ECF6\", \"width\": 0.5}}, \"type\": \"bar\"}], \"barpolar\": [{\"marker\": {\"line\": {\"color\": \"#E5ECF6\", \"width\": 0.5}}, \"type\": \"barpolar\"}], \"carpet\": [{\"aaxis\": {\"endlinecolor\": \"#2a3f5f\", \"gridcolor\": \"white\", \"linecolor\": \"white\", \"minorgridcolor\": \"white\", \"startlinecolor\": \"#2a3f5f\"}, \"baxis\": {\"endlinecolor\": \"#2a3f5f\", \"gridcolor\": \"white\", \"linecolor\": \"white\", \"minorgridcolor\": \"white\", \"startlinecolor\": \"#2a3f5f\"}, \"type\": \"carpet\"}], \"choropleth\": [{\"colorbar\": {\"outlinewidth\": 0, \"ticks\": \"\"}, \"type\": \"choropleth\"}], \"contour\": [{\"colorbar\": {\"outlinewidth\": 0, \"ticks\": \"\"}, \"colorscale\": [[0.0, \"#0d0887\"], [0.1111111111111111, \"#46039f\"], [0.2222222222222222, \"#7201a8\"], [0.3333333333333333, \"#9c179e\"], [0.4444444444444444, \"#bd3786\"], [0.5555555555555556, \"#d8576b\"], [0.6666666666666666, \"#ed7953\"], [0.7777777777777778, \"#fb9f3a\"], [0.8888888888888888, \"#fdca26\"], [1.0, \"#f0f921\"]], \"type\": \"contour\"}], \"contourcarpet\": [{\"colorbar\": {\"outlinewidth\": 0, \"ticks\": \"\"}, \"type\": \"contourcarpet\"}], \"heatmap\": [{\"colorbar\": {\"outlinewidth\": 0, \"ticks\": \"\"}, \"colorscale\": [[0.0, \"#0d0887\"], [0.1111111111111111, \"#46039f\"], [0.2222222222222222, \"#7201a8\"], [0.3333333333333333, \"#9c179e\"], [0.4444444444444444, \"#bd3786\"], [0.5555555555555556, \"#d8576b\"], [0.6666666666666666, \"#ed7953\"], [0.7777777777777778, \"#fb9f3a\"], [0.8888888888888888, \"#fdca26\"], [1.0, \"#f0f921\"]], \"type\": \"heatmap\"}], \"heatmapgl\": [{\"colorbar\": {\"outlinewidth\": 0, \"ticks\": \"\"}, \"colorscale\": [[0.0, \"#0d0887\"], [0.1111111111111111, \"#46039f\"], [0.2222222222222222, \"#7201a8\"], [0.3333333333333333, \"#9c179e\"], [0.4444444444444444, \"#bd3786\"], [0.5555555555555556, \"#d8576b\"], [0.6666666666666666, \"#ed7953\"], [0.7777777777777778, \"#fb9f3a\"], [0.8888888888888888, \"#fdca26\"], [1.0, \"#f0f921\"]], \"type\": \"heatmapgl\"}], \"histogram\": [{\"marker\": {\"colorbar\": {\"outlinewidth\": 0, \"ticks\": \"\"}}, \"type\": \"histogram\"}], \"histogram2d\": [{\"colorbar\": {\"outlinewidth\": 0, \"ticks\": \"\"}, \"colorscale\": [[0.0, \"#0d0887\"], [0.1111111111111111, \"#46039f\"], [0.2222222222222222, \"#7201a8\"], [0.3333333333333333, \"#9c179e\"], [0.4444444444444444, \"#bd3786\"], [0.5555555555555556, \"#d8576b\"], [0.6666666666666666, \"#ed7953\"], [0.7777777777777778, \"#fb9f3a\"], [0.8888888888888888, \"#fdca26\"], [1.0, \"#f0f921\"]], \"type\": \"histogram2d\"}], \"histogram2dcontour\": [{\"colorbar\": {\"outlinewidth\": 0, \"ticks\": \"\"}, \"colorscale\": [[0.0, \"#0d0887\"], [0.1111111111111111, \"#46039f\"], [0.2222222222222222, \"#7201a8\"], [0.3333333333333333, \"#9c179e\"], [0.4444444444444444, \"#bd3786\"], [0.5555555555555556, \"#d8576b\"], [0.6666666666666666, \"#ed7953\"], [0.7777777777777778, \"#fb9f3a\"], [0.8888888888888888, \"#fdca26\"], [1.0, \"#f0f921\"]], \"type\": \"histogram2dcontour\"}], \"mesh3d\": [{\"colorbar\": {\"outlinewidth\": 0, \"ticks\": \"\"}, \"type\": \"mesh3d\"}], \"parcoords\": [{\"line\": {\"colorbar\": {\"outlinewidth\": 0, \"ticks\": \"\"}}, \"type\": \"parcoords\"}], \"pie\": [{\"automargin\": true, \"type\": \"pie\"}], \"scatter\": [{\"marker\": {\"colorbar\": {\"outlinewidth\": 0, \"ticks\": \"\"}}, \"type\": \"scatter\"}], \"scatter3d\": [{\"line\": {\"colorbar\": {\"outlinewidth\": 0, \"ticks\": \"\"}}, \"marker\": {\"colorbar\": {\"outlinewidth\": 0, \"ticks\": \"\"}}, \"type\": \"scatter3d\"}], \"scattercarpet\": [{\"marker\": {\"colorbar\": {\"outlinewidth\": 0, \"ticks\": \"\"}}, \"type\": \"scattercarpet\"}], \"scattergeo\": [{\"marker\": {\"colorbar\": {\"outlinewidth\": 0, \"ticks\": \"\"}}, \"type\": \"scattergeo\"}], \"scattergl\": [{\"marker\": {\"colorbar\": {\"outlinewidth\": 0, \"ticks\": \"\"}}, \"type\": \"scattergl\"}], \"scattermapbox\": [{\"marker\": {\"colorbar\": {\"outlinewidth\": 0, \"ticks\": \"\"}}, \"type\": \"scattermapbox\"}], \"scatterpolar\": [{\"marker\": {\"colorbar\": {\"outlinewidth\": 0, \"ticks\": \"\"}}, \"type\": \"scatterpolar\"}], \"scatterpolargl\": [{\"marker\": {\"colorbar\": {\"outlinewidth\": 0, \"ticks\": \"\"}}, \"type\": \"scatterpolargl\"}], \"scatterternary\": [{\"marker\": {\"colorbar\": {\"outlinewidth\": 0, \"ticks\": \"\"}}, \"type\": \"scatterternary\"}], \"surface\": [{\"colorbar\": {\"outlinewidth\": 0, \"ticks\": \"\"}, \"colorscale\": [[0.0, \"#0d0887\"], [0.1111111111111111, \"#46039f\"], [0.2222222222222222, \"#7201a8\"], [0.3333333333333333, \"#9c179e\"], [0.4444444444444444, \"#bd3786\"], [0.5555555555555556, \"#d8576b\"], [0.6666666666666666, \"#ed7953\"], [0.7777777777777778, \"#fb9f3a\"], [0.8888888888888888, \"#fdca26\"], [1.0, \"#f0f921\"]], \"type\": \"surface\"}], \"table\": [{\"cells\": {\"fill\": {\"color\": \"#EBF0F8\"}, \"line\": {\"color\": \"white\"}}, \"header\": {\"fill\": {\"color\": \"#C8D4E3\"}, \"line\": {\"color\": \"white\"}}, \"type\": \"table\"}]}, \"layout\": {\"annotationdefaults\": {\"arrowcolor\": \"#2a3f5f\", \"arrowhead\": 0, \"arrowwidth\": 1}, \"coloraxis\": {\"colorbar\": {\"outlinewidth\": 0, \"ticks\": \"\"}}, \"colorscale\": {\"diverging\": [[0, \"#8e0152\"], [0.1, \"#c51b7d\"], [0.2, \"#de77ae\"], [0.3, \"#f1b6da\"], [0.4, \"#fde0ef\"], [0.5, \"#f7f7f7\"], [0.6, \"#e6f5d0\"], [0.7, \"#b8e186\"], [0.8, \"#7fbc41\"], [0.9, \"#4d9221\"], [1, \"#276419\"]], \"sequential\": [[0.0, \"#0d0887\"], [0.1111111111111111, \"#46039f\"], [0.2222222222222222, \"#7201a8\"], [0.3333333333333333, \"#9c179e\"], [0.4444444444444444, \"#bd3786\"], [0.5555555555555556, \"#d8576b\"], [0.6666666666666666, \"#ed7953\"], [0.7777777777777778, \"#fb9f3a\"], [0.8888888888888888, \"#fdca26\"], [1.0, \"#f0f921\"]], \"sequentialminus\": [[0.0, \"#0d0887\"], [0.1111111111111111, \"#46039f\"], [0.2222222222222222, \"#7201a8\"], [0.3333333333333333, \"#9c179e\"], [0.4444444444444444, \"#bd3786\"], [0.5555555555555556, \"#d8576b\"], [0.6666666666666666, \"#ed7953\"], [0.7777777777777778, \"#fb9f3a\"], [0.8888888888888888, \"#fdca26\"], [1.0, \"#f0f921\"]]}, \"colorway\": [\"#636efa\", \"#EF553B\", \"#00cc96\", \"#ab63fa\", \"#FFA15A\", \"#19d3f3\", \"#FF6692\", \"#B6E880\", \"#FF97FF\", \"#FECB52\"], \"font\": {\"color\": \"#2a3f5f\"}, \"geo\": {\"bgcolor\": \"white\", \"lakecolor\": \"white\", \"landcolor\": \"#E5ECF6\", \"showlakes\": true, \"showland\": true, \"subunitcolor\": \"white\"}, \"hoverlabel\": {\"align\": \"left\"}, \"hovermode\": \"closest\", \"mapbox\": {\"style\": \"light\"}, \"paper_bgcolor\": \"white\", \"plot_bgcolor\": \"#E5ECF6\", \"polar\": {\"angularaxis\": {\"gridcolor\": \"white\", \"linecolor\": \"white\", \"ticks\": \"\"}, \"bgcolor\": \"#E5ECF6\", \"radialaxis\": {\"gridcolor\": \"white\", \"linecolor\": \"white\", \"ticks\": \"\"}}, \"scene\": {\"xaxis\": {\"backgroundcolor\": \"#E5ECF6\", \"gridcolor\": \"white\", \"gridwidth\": 2, \"linecolor\": \"white\", \"showbackground\": true, \"ticks\": \"\", \"zerolinecolor\": \"white\"}, \"yaxis\": {\"backgroundcolor\": \"#E5ECF6\", \"gridcolor\": \"white\", \"gridwidth\": 2, \"linecolor\": \"white\", \"showbackground\": true, \"ticks\": \"\", \"zerolinecolor\": \"white\"}, \"zaxis\": {\"backgroundcolor\": \"#E5ECF6\", \"gridcolor\": \"white\", \"gridwidth\": 2, \"linecolor\": \"white\", \"showbackground\": true, \"ticks\": \"\", \"zerolinecolor\": \"white\"}}, \"shapedefaults\": {\"line\": {\"color\": \"#2a3f5f\"}}, \"ternary\": {\"aaxis\": {\"gridcolor\": \"white\", \"linecolor\": \"white\", \"ticks\": \"\"}, \"baxis\": {\"gridcolor\": \"white\", \"linecolor\": \"white\", \"ticks\": \"\"}, \"bgcolor\": \"#E5ECF6\", \"caxis\": {\"gridcolor\": \"white\", \"linecolor\": \"white\", \"ticks\": \"\"}}, \"title\": {\"x\": 0.05}, \"xaxis\": {\"automargin\": true, \"gridcolor\": \"white\", \"linecolor\": \"white\", \"ticks\": \"\", \"title\": {\"standoff\": 15}, \"zerolinecolor\": \"white\", \"zerolinewidth\": 2}, \"yaxis\": {\"automargin\": true, \"gridcolor\": \"white\", \"linecolor\": \"white\", \"ticks\": \"\", \"title\": {\"standoff\": 15}, \"zerolinecolor\": \"white\", \"zerolinewidth\": 2}}}, \"title\": {\"font\": {\"color\": \"#4D5663\"}, \"text\": \"Top 10 Vendors by Monetary Amount (November 2019)\"}, \"xaxis\": {\"gridcolor\": \"#E1E5ED\", \"showgrid\": true, \"tickfont\": {\"color\": \"#4D5663\"}, \"title\": {\"font\": {\"color\": \"#4D5663\"}, \"text\": \"Monetary Amount ($)\"}, \"zerolinecolor\": \"#E1E5ED\"}, \"yaxis\": {\"gridcolor\": \"#E1E5ED\", \"showgrid\": true, \"tickfont\": {\"color\": \"#4D5663\"}, \"title\": {\"font\": {\"color\": \"#4D5663\"}, \"text\": \"\"}, \"zerolinecolor\": \"#E1E5ED\"}},\n",
       "                        {\"showLink\": true, \"linkText\": \"Export to plot.ly\", \"plotlyServerURL\": \"https://plot.ly\", \"responsive\": true}\n",
       "                    ).then(function(){\n",
       "                            \n",
       "var gd = document.getElementById('b914fc07-c661-4491-869f-e08a05d003e8');\n",
       "var x = new MutationObserver(function (mutations, observer) {{\n",
       "        var display = window.getComputedStyle(gd).display;\n",
       "        if (!display || display === 'none') {{\n",
       "            console.log([gd, 'removed!']);\n",
       "            Plotly.purge(gd);\n",
       "            observer.disconnect();\n",
       "        }}\n",
       "}});\n",
       "\n",
       "// Listen for the removal of the full notebook cells\n",
       "var notebookContainer = gd.closest('#notebook-container');\n",
       "if (notebookContainer) {{\n",
       "    x.observe(notebookContainer, {childList: true});\n",
       "}}\n",
       "\n",
       "// Listen for the clearing of the current output cell\n",
       "var outputEl = gd.closest('.output');\n",
       "if (outputEl) {{\n",
       "    x.observe(outputEl, {childList: true});\n",
       "}}\n",
       "\n",
       "                        })\n",
       "                };\n",
       "                });\n",
       "            </script>\n",
       "        </div>"
      ]
     },
     "metadata": {},
     "output_type": "display_data"
    }
   ],
   "source": [
    "# bar chart of the top 10 vendors by monetary value\n",
    "vendor_monetary_sum.tail(10).iplot(kind='bar', orientation='h', title='Top 10 Vendors by Monetary Amount (November 2019)',xTitle='Monetary Amount ($)')"
   ]
  },
  {
   "cell_type": "code",
   "execution_count": 10,
   "metadata": {},
   "outputs": [
    {
     "data": {
      "application/vnd.plotly.v1+json": {
       "config": {
        "linkText": "Export to plot.ly",
        "plotlyServerURL": "https://plot.ly",
        "showLink": true
       },
       "data": [
        {
         "marker": {
          "color": "rgba(255, 153, 51, 0.6)",
          "line": {
           "color": "rgba(255, 153, 51, 1.0)",
           "width": 1
          }
         },
         "name": "Vendor Name",
         "orientation": "h",
         "text": "",
         "type": "bar",
         "x": [
          1521,
          1861,
          2165,
          2214,
          3432,
          6091,
          10220,
          10518,
          22873,
          51009
         ],
         "y": [
          "FEDEX CORPORATION SERVICES INC",
          "AT&T GLOBAL SERVICES INC",
          "SMILE BUSINESS PRODUCTS INC",
          "VERIZON WIRELESS",
          "AT&T CORP",
          "CITIBANK NA",
          "DEPT OF GENERAL SERVICES",
          "US FOODS INC",
          "US BANK",
          "Confidential"
         ]
        }
       ],
       "layout": {
        "autosize": true,
        "legend": {
         "bgcolor": "#F5F6F9",
         "font": {
          "color": "#4D5663"
         }
        },
        "paper_bgcolor": "#F5F6F9",
        "plot_bgcolor": "#F5F6F9",
        "template": {
         "data": {
          "bar": [
           {
            "error_x": {
             "color": "#2a3f5f"
            },
            "error_y": {
             "color": "#2a3f5f"
            },
            "marker": {
             "line": {
              "color": "#E5ECF6",
              "width": 0.5
             }
            },
            "type": "bar"
           }
          ],
          "barpolar": [
           {
            "marker": {
             "line": {
              "color": "#E5ECF6",
              "width": 0.5
             }
            },
            "type": "barpolar"
           }
          ],
          "carpet": [
           {
            "aaxis": {
             "endlinecolor": "#2a3f5f",
             "gridcolor": "white",
             "linecolor": "white",
             "minorgridcolor": "white",
             "startlinecolor": "#2a3f5f"
            },
            "baxis": {
             "endlinecolor": "#2a3f5f",
             "gridcolor": "white",
             "linecolor": "white",
             "minorgridcolor": "white",
             "startlinecolor": "#2a3f5f"
            },
            "type": "carpet"
           }
          ],
          "choropleth": [
           {
            "colorbar": {
             "outlinewidth": 0,
             "ticks": ""
            },
            "type": "choropleth"
           }
          ],
          "contour": [
           {
            "colorbar": {
             "outlinewidth": 0,
             "ticks": ""
            },
            "colorscale": [
             [
              0,
              "#0d0887"
             ],
             [
              0.1111111111111111,
              "#46039f"
             ],
             [
              0.2222222222222222,
              "#7201a8"
             ],
             [
              0.3333333333333333,
              "#9c179e"
             ],
             [
              0.4444444444444444,
              "#bd3786"
             ],
             [
              0.5555555555555556,
              "#d8576b"
             ],
             [
              0.6666666666666666,
              "#ed7953"
             ],
             [
              0.7777777777777778,
              "#fb9f3a"
             ],
             [
              0.8888888888888888,
              "#fdca26"
             ],
             [
              1,
              "#f0f921"
             ]
            ],
            "type": "contour"
           }
          ],
          "contourcarpet": [
           {
            "colorbar": {
             "outlinewidth": 0,
             "ticks": ""
            },
            "type": "contourcarpet"
           }
          ],
          "heatmap": [
           {
            "colorbar": {
             "outlinewidth": 0,
             "ticks": ""
            },
            "colorscale": [
             [
              0,
              "#0d0887"
             ],
             [
              0.1111111111111111,
              "#46039f"
             ],
             [
              0.2222222222222222,
              "#7201a8"
             ],
             [
              0.3333333333333333,
              "#9c179e"
             ],
             [
              0.4444444444444444,
              "#bd3786"
             ],
             [
              0.5555555555555556,
              "#d8576b"
             ],
             [
              0.6666666666666666,
              "#ed7953"
             ],
             [
              0.7777777777777778,
              "#fb9f3a"
             ],
             [
              0.8888888888888888,
              "#fdca26"
             ],
             [
              1,
              "#f0f921"
             ]
            ],
            "type": "heatmap"
           }
          ],
          "heatmapgl": [
           {
            "colorbar": {
             "outlinewidth": 0,
             "ticks": ""
            },
            "colorscale": [
             [
              0,
              "#0d0887"
             ],
             [
              0.1111111111111111,
              "#46039f"
             ],
             [
              0.2222222222222222,
              "#7201a8"
             ],
             [
              0.3333333333333333,
              "#9c179e"
             ],
             [
              0.4444444444444444,
              "#bd3786"
             ],
             [
              0.5555555555555556,
              "#d8576b"
             ],
             [
              0.6666666666666666,
              "#ed7953"
             ],
             [
              0.7777777777777778,
              "#fb9f3a"
             ],
             [
              0.8888888888888888,
              "#fdca26"
             ],
             [
              1,
              "#f0f921"
             ]
            ],
            "type": "heatmapgl"
           }
          ],
          "histogram": [
           {
            "marker": {
             "colorbar": {
              "outlinewidth": 0,
              "ticks": ""
             }
            },
            "type": "histogram"
           }
          ],
          "histogram2d": [
           {
            "colorbar": {
             "outlinewidth": 0,
             "ticks": ""
            },
            "colorscale": [
             [
              0,
              "#0d0887"
             ],
             [
              0.1111111111111111,
              "#46039f"
             ],
             [
              0.2222222222222222,
              "#7201a8"
             ],
             [
              0.3333333333333333,
              "#9c179e"
             ],
             [
              0.4444444444444444,
              "#bd3786"
             ],
             [
              0.5555555555555556,
              "#d8576b"
             ],
             [
              0.6666666666666666,
              "#ed7953"
             ],
             [
              0.7777777777777778,
              "#fb9f3a"
             ],
             [
              0.8888888888888888,
              "#fdca26"
             ],
             [
              1,
              "#f0f921"
             ]
            ],
            "type": "histogram2d"
           }
          ],
          "histogram2dcontour": [
           {
            "colorbar": {
             "outlinewidth": 0,
             "ticks": ""
            },
            "colorscale": [
             [
              0,
              "#0d0887"
             ],
             [
              0.1111111111111111,
              "#46039f"
             ],
             [
              0.2222222222222222,
              "#7201a8"
             ],
             [
              0.3333333333333333,
              "#9c179e"
             ],
             [
              0.4444444444444444,
              "#bd3786"
             ],
             [
              0.5555555555555556,
              "#d8576b"
             ],
             [
              0.6666666666666666,
              "#ed7953"
             ],
             [
              0.7777777777777778,
              "#fb9f3a"
             ],
             [
              0.8888888888888888,
              "#fdca26"
             ],
             [
              1,
              "#f0f921"
             ]
            ],
            "type": "histogram2dcontour"
           }
          ],
          "mesh3d": [
           {
            "colorbar": {
             "outlinewidth": 0,
             "ticks": ""
            },
            "type": "mesh3d"
           }
          ],
          "parcoords": [
           {
            "line": {
             "colorbar": {
              "outlinewidth": 0,
              "ticks": ""
             }
            },
            "type": "parcoords"
           }
          ],
          "pie": [
           {
            "automargin": true,
            "type": "pie"
           }
          ],
          "scatter": [
           {
            "marker": {
             "colorbar": {
              "outlinewidth": 0,
              "ticks": ""
             }
            },
            "type": "scatter"
           }
          ],
          "scatter3d": [
           {
            "line": {
             "colorbar": {
              "outlinewidth": 0,
              "ticks": ""
             }
            },
            "marker": {
             "colorbar": {
              "outlinewidth": 0,
              "ticks": ""
             }
            },
            "type": "scatter3d"
           }
          ],
          "scattercarpet": [
           {
            "marker": {
             "colorbar": {
              "outlinewidth": 0,
              "ticks": ""
             }
            },
            "type": "scattercarpet"
           }
          ],
          "scattergeo": [
           {
            "marker": {
             "colorbar": {
              "outlinewidth": 0,
              "ticks": ""
             }
            },
            "type": "scattergeo"
           }
          ],
          "scattergl": [
           {
            "marker": {
             "colorbar": {
              "outlinewidth": 0,
              "ticks": ""
             }
            },
            "type": "scattergl"
           }
          ],
          "scattermapbox": [
           {
            "marker": {
             "colorbar": {
              "outlinewidth": 0,
              "ticks": ""
             }
            },
            "type": "scattermapbox"
           }
          ],
          "scatterpolar": [
           {
            "marker": {
             "colorbar": {
              "outlinewidth": 0,
              "ticks": ""
             }
            },
            "type": "scatterpolar"
           }
          ],
          "scatterpolargl": [
           {
            "marker": {
             "colorbar": {
              "outlinewidth": 0,
              "ticks": ""
             }
            },
            "type": "scatterpolargl"
           }
          ],
          "scatterternary": [
           {
            "marker": {
             "colorbar": {
              "outlinewidth": 0,
              "ticks": ""
             }
            },
            "type": "scatterternary"
           }
          ],
          "surface": [
           {
            "colorbar": {
             "outlinewidth": 0,
             "ticks": ""
            },
            "colorscale": [
             [
              0,
              "#0d0887"
             ],
             [
              0.1111111111111111,
              "#46039f"
             ],
             [
              0.2222222222222222,
              "#7201a8"
             ],
             [
              0.3333333333333333,
              "#9c179e"
             ],
             [
              0.4444444444444444,
              "#bd3786"
             ],
             [
              0.5555555555555556,
              "#d8576b"
             ],
             [
              0.6666666666666666,
              "#ed7953"
             ],
             [
              0.7777777777777778,
              "#fb9f3a"
             ],
             [
              0.8888888888888888,
              "#fdca26"
             ],
             [
              1,
              "#f0f921"
             ]
            ],
            "type": "surface"
           }
          ],
          "table": [
           {
            "cells": {
             "fill": {
              "color": "#EBF0F8"
             },
             "line": {
              "color": "white"
             }
            },
            "header": {
             "fill": {
              "color": "#C8D4E3"
             },
             "line": {
              "color": "white"
             }
            },
            "type": "table"
           }
          ]
         },
         "layout": {
          "annotationdefaults": {
           "arrowcolor": "#2a3f5f",
           "arrowhead": 0,
           "arrowwidth": 1
          },
          "coloraxis": {
           "colorbar": {
            "outlinewidth": 0,
            "ticks": ""
           }
          },
          "colorscale": {
           "diverging": [
            [
             0,
             "#8e0152"
            ],
            [
             0.1,
             "#c51b7d"
            ],
            [
             0.2,
             "#de77ae"
            ],
            [
             0.3,
             "#f1b6da"
            ],
            [
             0.4,
             "#fde0ef"
            ],
            [
             0.5,
             "#f7f7f7"
            ],
            [
             0.6,
             "#e6f5d0"
            ],
            [
             0.7,
             "#b8e186"
            ],
            [
             0.8,
             "#7fbc41"
            ],
            [
             0.9,
             "#4d9221"
            ],
            [
             1,
             "#276419"
            ]
           ],
           "sequential": [
            [
             0,
             "#0d0887"
            ],
            [
             0.1111111111111111,
             "#46039f"
            ],
            [
             0.2222222222222222,
             "#7201a8"
            ],
            [
             0.3333333333333333,
             "#9c179e"
            ],
            [
             0.4444444444444444,
             "#bd3786"
            ],
            [
             0.5555555555555556,
             "#d8576b"
            ],
            [
             0.6666666666666666,
             "#ed7953"
            ],
            [
             0.7777777777777778,
             "#fb9f3a"
            ],
            [
             0.8888888888888888,
             "#fdca26"
            ],
            [
             1,
             "#f0f921"
            ]
           ],
           "sequentialminus": [
            [
             0,
             "#0d0887"
            ],
            [
             0.1111111111111111,
             "#46039f"
            ],
            [
             0.2222222222222222,
             "#7201a8"
            ],
            [
             0.3333333333333333,
             "#9c179e"
            ],
            [
             0.4444444444444444,
             "#bd3786"
            ],
            [
             0.5555555555555556,
             "#d8576b"
            ],
            [
             0.6666666666666666,
             "#ed7953"
            ],
            [
             0.7777777777777778,
             "#fb9f3a"
            ],
            [
             0.8888888888888888,
             "#fdca26"
            ],
            [
             1,
             "#f0f921"
            ]
           ]
          },
          "colorway": [
           "#636efa",
           "#EF553B",
           "#00cc96",
           "#ab63fa",
           "#FFA15A",
           "#19d3f3",
           "#FF6692",
           "#B6E880",
           "#FF97FF",
           "#FECB52"
          ],
          "font": {
           "color": "#2a3f5f"
          },
          "geo": {
           "bgcolor": "white",
           "lakecolor": "white",
           "landcolor": "#E5ECF6",
           "showlakes": true,
           "showland": true,
           "subunitcolor": "white"
          },
          "hoverlabel": {
           "align": "left"
          },
          "hovermode": "closest",
          "mapbox": {
           "style": "light"
          },
          "paper_bgcolor": "white",
          "plot_bgcolor": "#E5ECF6",
          "polar": {
           "angularaxis": {
            "gridcolor": "white",
            "linecolor": "white",
            "ticks": ""
           },
           "bgcolor": "#E5ECF6",
           "radialaxis": {
            "gridcolor": "white",
            "linecolor": "white",
            "ticks": ""
           }
          },
          "scene": {
           "xaxis": {
            "backgroundcolor": "#E5ECF6",
            "gridcolor": "white",
            "gridwidth": 2,
            "linecolor": "white",
            "showbackground": true,
            "ticks": "",
            "zerolinecolor": "white"
           },
           "yaxis": {
            "backgroundcolor": "#E5ECF6",
            "gridcolor": "white",
            "gridwidth": 2,
            "linecolor": "white",
            "showbackground": true,
            "ticks": "",
            "zerolinecolor": "white"
           },
           "zaxis": {
            "backgroundcolor": "#E5ECF6",
            "gridcolor": "white",
            "gridwidth": 2,
            "linecolor": "white",
            "showbackground": true,
            "ticks": "",
            "zerolinecolor": "white"
           }
          },
          "shapedefaults": {
           "line": {
            "color": "#2a3f5f"
           }
          },
          "ternary": {
           "aaxis": {
            "gridcolor": "white",
            "linecolor": "white",
            "ticks": ""
           },
           "baxis": {
            "gridcolor": "white",
            "linecolor": "white",
            "ticks": ""
           },
           "bgcolor": "#E5ECF6",
           "caxis": {
            "gridcolor": "white",
            "linecolor": "white",
            "ticks": ""
           }
          },
          "title": {
           "x": 0.05
          },
          "xaxis": {
           "automargin": true,
           "gridcolor": "white",
           "linecolor": "white",
           "ticks": "",
           "title": {
            "standoff": 15
           },
           "zerolinecolor": "white",
           "zerolinewidth": 2
          },
          "yaxis": {
           "automargin": true,
           "gridcolor": "white",
           "linecolor": "white",
           "ticks": "",
           "title": {
            "standoff": 15
           },
           "zerolinecolor": "white",
           "zerolinewidth": 2
          }
         }
        },
        "title": {
         "font": {
          "color": "#4D5663"
         },
         "text": "Top 10 Vendors by # of Transactions (Novemeber 2019)"
        },
        "xaxis": {
         "autorange": true,
         "gridcolor": "#E1E5ED",
         "range": [
          0,
          53693.68421052631
         ],
         "showgrid": true,
         "tickfont": {
          "color": "#4D5663"
         },
         "title": {
          "font": {
           "color": "#4D5663"
          },
          "text": "Number of Transactions"
         },
         "type": "linear",
         "zerolinecolor": "#E1E5ED"
        },
        "yaxis": {
         "autorange": true,
         "gridcolor": "#E1E5ED",
         "range": [
          -0.5,
          9.5
         ],
         "showgrid": true,
         "tickfont": {
          "color": "#4D5663"
         },
         "title": {
          "font": {
           "color": "#4D5663"
          },
          "text": ""
         },
         "type": "category",
         "zerolinecolor": "#E1E5ED"
        }
       }
      },
      "image/png": "[encoded data removed]",
      "text/html": [
       "<div>\n",
       "        \n",
       "        \n",
       "            <div id=\"46038dfa-751a-46d1-9669-670f6d772619\" class=\"plotly-graph-div\" style=\"height:525px; width:100%;\"></div>\n",
       "            <script type=\"text/javascript\">\n",
       "                require([\"plotly\"], function(Plotly) {\n",
       "                    window.PLOTLYENV=window.PLOTLYENV || {};\n",
       "                    window.PLOTLYENV.BASE_URL='https://plot.ly';\n",
       "                    \n",
       "                if (document.getElementById(\"46038dfa-751a-46d1-9669-670f6d772619\")) {\n",
       "                    Plotly.newPlot(\n",
       "                        '46038dfa-751a-46d1-9669-670f6d772619',\n",
       "                        [{\"marker\": {\"color\": \"rgba(255, 153, 51, 0.6)\", \"line\": {\"color\": \"rgba(255, 153, 51, 1.0)\", \"width\": 1}}, \"name\": \"Vendor Name\", \"orientation\": \"h\", \"text\": \"\", \"type\": \"bar\", \"x\": [1521, 1861, 2165, 2214, 3432, 6091, 10220, 10518, 22873, 51009], \"y\": [\"FEDEX CORPORATION SERVICES INC\", \"AT&T GLOBAL SERVICES INC\", \"SMILE BUSINESS PRODUCTS INC\", \"VERIZON WIRELESS\", \"AT&T CORP\", \"CITIBANK NA\", \"DEPT OF GENERAL SERVICES\", \"US FOODS INC\", \"US BANK\", \"Confidential\"]}],\n",
       "                        {\"legend\": {\"bgcolor\": \"#F5F6F9\", \"font\": {\"color\": \"#4D5663\"}}, \"paper_bgcolor\": \"#F5F6F9\", \"plot_bgcolor\": \"#F5F6F9\", \"template\": {\"data\": {\"bar\": [{\"error_x\": {\"color\": \"#2a3f5f\"}, \"error_y\": {\"color\": \"#2a3f5f\"}, \"marker\": {\"line\": {\"color\": \"#E5ECF6\", \"width\": 0.5}}, \"type\": \"bar\"}], \"barpolar\": [{\"marker\": {\"line\": {\"color\": \"#E5ECF6\", \"width\": 0.5}}, \"type\": \"barpolar\"}], \"carpet\": [{\"aaxis\": {\"endlinecolor\": \"#2a3f5f\", \"gridcolor\": \"white\", \"linecolor\": \"white\", \"minorgridcolor\": \"white\", \"startlinecolor\": \"#2a3f5f\"}, \"baxis\": {\"endlinecolor\": \"#2a3f5f\", \"gridcolor\": \"white\", \"linecolor\": \"white\", \"minorgridcolor\": \"white\", \"startlinecolor\": \"#2a3f5f\"}, \"type\": \"carpet\"}], \"choropleth\": [{\"colorbar\": {\"outlinewidth\": 0, \"ticks\": \"\"}, \"type\": \"choropleth\"}], \"contour\": [{\"colorbar\": {\"outlinewidth\": 0, \"ticks\": \"\"}, \"colorscale\": [[0.0, \"#0d0887\"], [0.1111111111111111, \"#46039f\"], [0.2222222222222222, \"#7201a8\"], [0.3333333333333333, \"#9c179e\"], [0.4444444444444444, \"#bd3786\"], [0.5555555555555556, \"#d8576b\"], [0.6666666666666666, \"#ed7953\"], [0.7777777777777778, \"#fb9f3a\"], [0.8888888888888888, \"#fdca26\"], [1.0, \"#f0f921\"]], \"type\": \"contour\"}], \"contourcarpet\": [{\"colorbar\": {\"outlinewidth\": 0, \"ticks\": \"\"}, \"type\": \"contourcarpet\"}], \"heatmap\": [{\"colorbar\": {\"outlinewidth\": 0, \"ticks\": \"\"}, \"colorscale\": [[0.0, \"#0d0887\"], [0.1111111111111111, \"#46039f\"], [0.2222222222222222, \"#7201a8\"], [0.3333333333333333, \"#9c179e\"], [0.4444444444444444, \"#bd3786\"], [0.5555555555555556, \"#d8576b\"], [0.6666666666666666, \"#ed7953\"], [0.7777777777777778, \"#fb9f3a\"], [0.8888888888888888, \"#fdca26\"], [1.0, \"#f0f921\"]], \"type\": \"heatmap\"}], \"heatmapgl\": [{\"colorbar\": {\"outlinewidth\": 0, \"ticks\": \"\"}, \"colorscale\": [[0.0, \"#0d0887\"], [0.1111111111111111, \"#46039f\"], [0.2222222222222222, \"#7201a8\"], [0.3333333333333333, \"#9c179e\"], [0.4444444444444444, \"#bd3786\"], [0.5555555555555556, \"#d8576b\"], [0.6666666666666666, \"#ed7953\"], [0.7777777777777778, \"#fb9f3a\"], [0.8888888888888888, \"#fdca26\"], [1.0, \"#f0f921\"]], \"type\": \"heatmapgl\"}], \"histogram\": [{\"marker\": {\"colorbar\": {\"outlinewidth\": 0, \"ticks\": \"\"}}, \"type\": \"histogram\"}], \"histogram2d\": [{\"colorbar\": {\"outlinewidth\": 0, \"ticks\": \"\"}, \"colorscale\": [[0.0, \"#0d0887\"], [0.1111111111111111, \"#46039f\"], [0.2222222222222222, \"#7201a8\"], [0.3333333333333333, \"#9c179e\"], [0.4444444444444444, \"#bd3786\"], [0.5555555555555556, \"#d8576b\"], [0.6666666666666666, \"#ed7953\"], [0.7777777777777778, \"#fb9f3a\"], [0.8888888888888888, \"#fdca26\"], [1.0, \"#f0f921\"]], \"type\": \"histogram2d\"}], \"histogram2dcontour\": [{\"colorbar\": {\"outlinewidth\": 0, \"ticks\": \"\"}, \"colorscale\": [[0.0, \"#0d0887\"], [0.1111111111111111, \"#46039f\"], [0.2222222222222222, \"#7201a8\"], [0.3333333333333333, \"#9c179e\"], [0.4444444444444444, \"#bd3786\"], [0.5555555555555556, \"#d8576b\"], [0.6666666666666666, \"#ed7953\"], [0.7777777777777778, \"#fb9f3a\"], [0.8888888888888888, \"#fdca26\"], [1.0, \"#f0f921\"]], \"type\": \"histogram2dcontour\"}], \"mesh3d\": [{\"colorbar\": {\"outlinewidth\": 0, \"ticks\": \"\"}, \"type\": \"mesh3d\"}], \"parcoords\": [{\"line\": {\"colorbar\": {\"outlinewidth\": 0, \"ticks\": \"\"}}, \"type\": \"parcoords\"}], \"pie\": [{\"automargin\": true, \"type\": \"pie\"}], \"scatter\": [{\"marker\": {\"colorbar\": {\"outlinewidth\": 0, \"ticks\": \"\"}}, \"type\": \"scatter\"}], \"scatter3d\": [{\"line\": {\"colorbar\": {\"outlinewidth\": 0, \"ticks\": \"\"}}, \"marker\": {\"colorbar\": {\"outlinewidth\": 0, \"ticks\": \"\"}}, \"type\": \"scatter3d\"}], \"scattercarpet\": [{\"marker\": {\"colorbar\": {\"outlinewidth\": 0, \"ticks\": \"\"}}, \"type\": \"scattercarpet\"}], \"scattergeo\": [{\"marker\": {\"colorbar\": {\"outlinewidth\": 0, \"ticks\": \"\"}}, \"type\": \"scattergeo\"}], \"scattergl\": [{\"marker\": {\"colorbar\": {\"outlinewidth\": 0, \"ticks\": \"\"}}, \"type\": \"scattergl\"}], \"scattermapbox\": [{\"marker\": {\"colorbar\": {\"outlinewidth\": 0, \"ticks\": \"\"}}, \"type\": \"scattermapbox\"}], \"scatterpolar\": [{\"marker\": {\"colorbar\": {\"outlinewidth\": 0, \"ticks\": \"\"}}, \"type\": \"scatterpolar\"}], \"scatterpolargl\": [{\"marker\": {\"colorbar\": {\"outlinewidth\": 0, \"ticks\": \"\"}}, \"type\": \"scatterpolargl\"}], \"scatterternary\": [{\"marker\": {\"colorbar\": {\"outlinewidth\": 0, \"ticks\": \"\"}}, \"type\": \"scatterternary\"}], \"surface\": [{\"colorbar\": {\"outlinewidth\": 0, \"ticks\": \"\"}, \"colorscale\": [[0.0, \"#0d0887\"], [0.1111111111111111, \"#46039f\"], [0.2222222222222222, \"#7201a8\"], [0.3333333333333333, \"#9c179e\"], [0.4444444444444444, \"#bd3786\"], [0.5555555555555556, \"#d8576b\"], [0.6666666666666666, \"#ed7953\"], [0.7777777777777778, \"#fb9f3a\"], [0.8888888888888888, \"#fdca26\"], [1.0, \"#f0f921\"]], \"type\": \"surface\"}], \"table\": [{\"cells\": {\"fill\": {\"color\": \"#EBF0F8\"}, \"line\": {\"color\": \"white\"}}, \"header\": {\"fill\": {\"color\": \"#C8D4E3\"}, \"line\": {\"color\": \"white\"}}, \"type\": \"table\"}]}, \"layout\": {\"annotationdefaults\": {\"arrowcolor\": \"#2a3f5f\", \"arrowhead\": 0, \"arrowwidth\": 1}, \"coloraxis\": {\"colorbar\": {\"outlinewidth\": 0, \"ticks\": \"\"}}, \"colorscale\": {\"diverging\": [[0, \"#8e0152\"], [0.1, \"#c51b7d\"], [0.2, \"#de77ae\"], [0.3, \"#f1b6da\"], [0.4, \"#fde0ef\"], [0.5, \"#f7f7f7\"], [0.6, \"#e6f5d0\"], [0.7, \"#b8e186\"], [0.8, \"#7fbc41\"], [0.9, \"#4d9221\"], [1, \"#276419\"]], \"sequential\": [[0.0, \"#0d0887\"], [0.1111111111111111, \"#46039f\"], [0.2222222222222222, \"#7201a8\"], [0.3333333333333333, \"#9c179e\"], [0.4444444444444444, \"#bd3786\"], [0.5555555555555556, \"#d8576b\"], [0.6666666666666666, \"#ed7953\"], [0.7777777777777778, \"#fb9f3a\"], [0.8888888888888888, \"#fdca26\"], [1.0, \"#f0f921\"]], \"sequentialminus\": [[0.0, \"#0d0887\"], [0.1111111111111111, \"#46039f\"], [0.2222222222222222, \"#7201a8\"], [0.3333333333333333, \"#9c179e\"], [0.4444444444444444, \"#bd3786\"], [0.5555555555555556, \"#d8576b\"], [0.6666666666666666, \"#ed7953\"], [0.7777777777777778, \"#fb9f3a\"], [0.8888888888888888, \"#fdca26\"], [1.0, \"#f0f921\"]]}, \"colorway\": [\"#636efa\", \"#EF553B\", \"#00cc96\", \"#ab63fa\", \"#FFA15A\", \"#19d3f3\", \"#FF6692\", \"#B6E880\", \"#FF97FF\", \"#FECB52\"], \"font\": {\"color\": \"#2a3f5f\"}, \"geo\": {\"bgcolor\": \"white\", \"lakecolor\": \"white\", \"landcolor\": \"#E5ECF6\", \"showlakes\": true, \"showland\": true, \"subunitcolor\": \"white\"}, \"hoverlabel\": {\"align\": \"left\"}, \"hovermode\": \"closest\", \"mapbox\": {\"style\": \"light\"}, \"paper_bgcolor\": \"white\", \"plot_bgcolor\": \"#E5ECF6\", \"polar\": {\"angularaxis\": {\"gridcolor\": \"white\", \"linecolor\": \"white\", \"ticks\": \"\"}, \"bgcolor\": \"#E5ECF6\", \"radialaxis\": {\"gridcolor\": \"white\", \"linecolor\": \"white\", \"ticks\": \"\"}}, \"scene\": {\"xaxis\": {\"backgroundcolor\": \"#E5ECF6\", \"gridcolor\": \"white\", \"gridwidth\": 2, \"linecolor\": \"white\", \"showbackground\": true, \"ticks\": \"\", \"zerolinecolor\": \"white\"}, \"yaxis\": {\"backgroundcolor\": \"#E5ECF6\", \"gridcolor\": \"white\", \"gridwidth\": 2, \"linecolor\": \"white\", \"showbackground\": true, \"ticks\": \"\", \"zerolinecolor\": \"white\"}, \"zaxis\": {\"backgroundcolor\": \"#E5ECF6\", \"gridcolor\": \"white\", \"gridwidth\": 2, \"linecolor\": \"white\", \"showbackground\": true, \"ticks\": \"\", \"zerolinecolor\": \"white\"}}, \"shapedefaults\": {\"line\": {\"color\": \"#2a3f5f\"}}, \"ternary\": {\"aaxis\": {\"gridcolor\": \"white\", \"linecolor\": \"white\", \"ticks\": \"\"}, \"baxis\": {\"gridcolor\": \"white\", \"linecolor\": \"white\", \"ticks\": \"\"}, \"bgcolor\": \"#E5ECF6\", \"caxis\": {\"gridcolor\": \"white\", \"linecolor\": \"white\", \"ticks\": \"\"}}, \"title\": {\"x\": 0.05}, \"xaxis\": {\"automargin\": true, \"gridcolor\": \"white\", \"linecolor\": \"white\", \"ticks\": \"\", \"title\": {\"standoff\": 15}, \"zerolinecolor\": \"white\", \"zerolinewidth\": 2}, \"yaxis\": {\"automargin\": true, \"gridcolor\": \"white\", \"linecolor\": \"white\", \"ticks\": \"\", \"title\": {\"standoff\": 15}, \"zerolinecolor\": \"white\", \"zerolinewidth\": 2}}}, \"title\": {\"font\": {\"color\": \"#4D5663\"}, \"text\": \"Top 10 Vendors by # of Transactions (Novemeber 2019)\"}, \"xaxis\": {\"gridcolor\": \"#E1E5ED\", \"showgrid\": true, \"tickfont\": {\"color\": \"#4D5663\"}, \"title\": {\"font\": {\"color\": \"#4D5663\"}, \"text\": \"Number of Transactions\"}, \"zerolinecolor\": \"#E1E5ED\"}, \"yaxis\": {\"gridcolor\": \"#E1E5ED\", \"showgrid\": true, \"tickfont\": {\"color\": \"#4D5663\"}, \"title\": {\"font\": {\"color\": \"#4D5663\"}, \"text\": \"\"}, \"zerolinecolor\": \"#E1E5ED\"}},\n",
       "                        {\"showLink\": true, \"linkText\": \"Export to plot.ly\", \"plotlyServerURL\": \"https://plot.ly\", \"responsive\": true}\n",
       "                    ).then(function(){\n",
       "                            \n",
       "var gd = document.getElementById('46038dfa-751a-46d1-9669-670f6d772619');\n",
       "var x = new MutationObserver(function (mutations, observer) {{\n",
       "        var display = window.getComputedStyle(gd).display;\n",
       "        if (!display || display === 'none') {{\n",
       "            console.log([gd, 'removed!']);\n",
       "            Plotly.purge(gd);\n",
       "            observer.disconnect();\n",
       "        }}\n",
       "}});\n",
       "\n",
       "// Listen for the removal of the full notebook cells\n",
       "var notebookContainer = gd.closest('#notebook-container');\n",
       "if (notebookContainer) {{\n",
       "    x.observe(notebookContainer, {childList: true});\n",
       "}}\n",
       "\n",
       "// Listen for the clearing of the current output cell\n",
       "var outputEl = gd.closest('.output');\n",
       "if (outputEl) {{\n",
       "    x.observe(outputEl, {childList: true});\n",
       "}}\n",
       "\n",
       "                        })\n",
       "                };\n",
       "                });\n",
       "            </script>\n",
       "        </div>"
      ]
     },
     "metadata": {},
     "output_type": "display_data"
    }
   ],
   "source": [
    "# bar chart with the total number of transactions by vendor\n",
    "vendor_counts = df_clean['Vendor Name'].value_counts().head(10).iloc[::-1]\n",
    "vendor_counts.iplot(kind='bar', orientation='h', title='Top 10 Vendors by # of Transactions (Novemeber 2019)', xTitle='Number of Transactions')"
   ]
  },
  {
   "cell_type": "markdown",
   "metadata": {},
   "source": [
    "# Requesting multiple months\n",
    "\n",
    "We can also request multiple months worth of data. Using similar code to what we have above, we can loop through a list of resource IDs. We could loop through the resource dictionary we made earlier to pull all months, but that would take awhile. There will be examples below that demonstrate that."
   ]
  },
  {
   "cell_type": "code",
   "execution_count": 11,
   "metadata": {},
   "outputs": [
    {
     "name": "stdout",
     "output_type": "stream",
     "text": [
      "Requesting cc491680-1eb0-42d2-8dac-47a2f1204d3e\n",
      "Current response length: 32000\n",
      "Requesting cc491680-1eb0-42d2-8dac-47a2f1204d3e\n",
      "Current response length: 32000\n",
      "Requesting cc491680-1eb0-42d2-8dac-47a2f1204d3e\n",
      "Current response length: 32000\n",
      "Requesting cc491680-1eb0-42d2-8dac-47a2f1204d3e\n",
      "Current response length: 32000\n",
      "Requesting cc491680-1eb0-42d2-8dac-47a2f1204d3e\n",
      "Current response length: 32000\n",
      "Requesting cc491680-1eb0-42d2-8dac-47a2f1204d3e\n",
      "Current response length: 32000\n",
      "Requesting cc491680-1eb0-42d2-8dac-47a2f1204d3e\n",
      "Current response length: 32000\n",
      "Requesting cc491680-1eb0-42d2-8dac-47a2f1204d3e\n",
      "Current response length: 31819\n",
      "Requesting cc491680-1eb0-42d2-8dac-47a2f1204d3e\n",
      "Current response length: 0\n",
      "Requesting c007b59b-98a9-414d-9d51-f731b2dce40a\n",
      "Current response length: 32000\n",
      "Requesting c007b59b-98a9-414d-9d51-f731b2dce40a\n",
      "Current response length: 32000\n",
      "Requesting c007b59b-98a9-414d-9d51-f731b2dce40a\n",
      "Current response length: 26020\n",
      "Requesting c007b59b-98a9-414d-9d51-f731b2dce40a\n",
      "Current response length: 0\n",
      "Requesting d7e40b35-cb38-41c6-ae89-95ac6abc9bd7\n",
      "Current response length: 32000\n",
      "Requesting d7e40b35-cb38-41c6-ae89-95ac6abc9bd7\n",
      "Current response length: 32000\n",
      "Requesting d7e40b35-cb38-41c6-ae89-95ac6abc9bd7\n",
      "Current response length: 11642\n",
      "Requesting d7e40b35-cb38-41c6-ae89-95ac6abc9bd7\n",
      "Current response length: 0\n"
     ]
    },
    {
     "data": {
      "text/html": [
       "<div>\n",
       "<style scoped>\n",
       "    .dataframe tbody tr th:only-of-type {\n",
       "        vertical-align: middle;\n",
       "    }\n",
       "\n",
       "    .dataframe tbody tr th {\n",
       "        vertical-align: top;\n",
       "    }\n",
       "\n",
       "    .dataframe thead th {\n",
       "        text-align: right;\n",
       "    }\n",
       "</style>\n",
       "<table border=\"1\" class=\"dataframe\">\n",
       "  <thead>\n",
       "    <tr style=\"text-align: right;\">\n",
       "      <th></th>\n",
       "      <th>Account Category</th>\n",
       "      <th>Budget Reference Sub-Category</th>\n",
       "      <th>Accounting Period</th>\n",
       "      <th>Account Description</th>\n",
       "      <th>Business Unit</th>\n",
       "      <th>Agency Name</th>\n",
       "      <th>Related Document</th>\n",
       "      <th>Account Type</th>\n",
       "      <th>Year of Enactment</th>\n",
       "      <th>Budget Reference Category</th>\n",
       "      <th>...</th>\n",
       "      <th>Department Name</th>\n",
       "      <th>Program Description</th>\n",
       "      <th>Budget Reference Description</th>\n",
       "      <th>Fund Description</th>\n",
       "      <th>Monetary Amount</th>\n",
       "      <th>Program Code</th>\n",
       "      <th>Fund Group</th>\n",
       "      <th>Vendor Name</th>\n",
       "      <th>_id</th>\n",
       "      <th>Fund Code</th>\n",
       "    </tr>\n",
       "  </thead>\n",
       "  <tbody>\n",
       "    <tr>\n",
       "      <th>0</th>\n",
       "      <td>Other Items of Expense</td>\n",
       "      <td>Budget Act</td>\n",
       "      <td>5</td>\n",
       "      <td>Food</td>\n",
       "      <td>8955</td>\n",
       "      <td>General Government</td>\n",
       "      <td>None</td>\n",
       "      <td>Operating Expense &amp; Equipment</td>\n",
       "      <td>2019</td>\n",
       "      <td>State Operations</td>\n",
       "      <td>...</td>\n",
       "      <td>Dept of Veterans Affairs</td>\n",
       "      <td>Clearing Account</td>\n",
       "      <td>BA State Operations-Support001</td>\n",
       "      <td>General Fund</td>\n",
       "      <td>17.14</td>\n",
       "      <td>9999000</td>\n",
       "      <td>General Fund</td>\n",
       "      <td>US FOODS INC</td>\n",
       "      <td>1</td>\n",
       "      <td>0001</td>\n",
       "    </tr>\n",
       "    <tr>\n",
       "      <th>1</th>\n",
       "      <td>Other Items of Expense</td>\n",
       "      <td>Budget Act</td>\n",
       "      <td>5</td>\n",
       "      <td>Food</td>\n",
       "      <td>8955</td>\n",
       "      <td>General Government</td>\n",
       "      <td>None</td>\n",
       "      <td>Operating Expense &amp; Equipment</td>\n",
       "      <td>2019</td>\n",
       "      <td>State Operations</td>\n",
       "      <td>...</td>\n",
       "      <td>Dept of Veterans Affairs</td>\n",
       "      <td>Clearing Account</td>\n",
       "      <td>BA State Operations-Support001</td>\n",
       "      <td>General Fund</td>\n",
       "      <td>102.84</td>\n",
       "      <td>9999000</td>\n",
       "      <td>General Fund</td>\n",
       "      <td>US FOODS INC</td>\n",
       "      <td>2</td>\n",
       "      <td>0001</td>\n",
       "    </tr>\n",
       "    <tr>\n",
       "      <th>2</th>\n",
       "      <td>Other Items of Expense</td>\n",
       "      <td>Budget Act</td>\n",
       "      <td>5</td>\n",
       "      <td>Food</td>\n",
       "      <td>8955</td>\n",
       "      <td>General Government</td>\n",
       "      <td>None</td>\n",
       "      <td>Operating Expense &amp; Equipment</td>\n",
       "      <td>2019</td>\n",
       "      <td>State Operations</td>\n",
       "      <td>...</td>\n",
       "      <td>Dept of Veterans Affairs</td>\n",
       "      <td>Clearing Account</td>\n",
       "      <td>BA State Operations-Support001</td>\n",
       "      <td>General Fund</td>\n",
       "      <td>136.55</td>\n",
       "      <td>9999000</td>\n",
       "      <td>General Fund</td>\n",
       "      <td>US FOODS INC</td>\n",
       "      <td>3</td>\n",
       "      <td>0001</td>\n",
       "    </tr>\n",
       "    <tr>\n",
       "      <th>3</th>\n",
       "      <td>Other Items of Expense</td>\n",
       "      <td>Budget Act</td>\n",
       "      <td>5</td>\n",
       "      <td>Food</td>\n",
       "      <td>8955</td>\n",
       "      <td>General Government</td>\n",
       "      <td>None</td>\n",
       "      <td>Operating Expense &amp; Equipment</td>\n",
       "      <td>2019</td>\n",
       "      <td>State Operations</td>\n",
       "      <td>...</td>\n",
       "      <td>Dept of Veterans Affairs</td>\n",
       "      <td>Clearing Account</td>\n",
       "      <td>BA State Operations-Support001</td>\n",
       "      <td>General Fund</td>\n",
       "      <td>94.12</td>\n",
       "      <td>9999000</td>\n",
       "      <td>General Fund</td>\n",
       "      <td>US FOODS INC</td>\n",
       "      <td>4</td>\n",
       "      <td>0001</td>\n",
       "    </tr>\n",
       "    <tr>\n",
       "      <th>4</th>\n",
       "      <td>Other Items of Expense</td>\n",
       "      <td>Budget Act</td>\n",
       "      <td>5</td>\n",
       "      <td>Food</td>\n",
       "      <td>8955</td>\n",
       "      <td>General Government</td>\n",
       "      <td>None</td>\n",
       "      <td>Operating Expense &amp; Equipment</td>\n",
       "      <td>2019</td>\n",
       "      <td>State Operations</td>\n",
       "      <td>...</td>\n",
       "      <td>Dept of Veterans Affairs</td>\n",
       "      <td>Clearing Account</td>\n",
       "      <td>BA State Operations-Support001</td>\n",
       "      <td>General Fund</td>\n",
       "      <td>30.42</td>\n",
       "      <td>9999000</td>\n",
       "      <td>General Fund</td>\n",
       "      <td>US FOODS INC</td>\n",
       "      <td>5</td>\n",
       "      <td>0001</td>\n",
       "    </tr>\n",
       "  </tbody>\n",
       "</table>\n",
       "<p>5 rows × 27 columns</p>\n",
       "</div>"
      ],
      "text/plain": [
       "         Account Category Budget Reference Sub-Category Accounting Period  \\\n",
       "0  Other Items of Expense                    Budget Act                 5   \n",
       "1  Other Items of Expense                    Budget Act                 5   \n",
       "2  Other Items of Expense                    Budget Act                 5   \n",
       "3  Other Items of Expense                    Budget Act                 5   \n",
       "4  Other Items of Expense                    Budget Act                 5   \n",
       "\n",
       "  Account Description Business Unit         Agency Name Related Document  \\\n",
       "0                Food          8955  General Government             None   \n",
       "1                Food          8955  General Government             None   \n",
       "2                Food          8955  General Government             None   \n",
       "3                Food          8955  General Government             None   \n",
       "4                Food          8955  General Government             None   \n",
       "\n",
       "                    Account Type Year of Enactment Budget Reference Category  \\\n",
       "0  Operating Expense & Equipment              2019          State Operations   \n",
       "1  Operating Expense & Equipment              2019          State Operations   \n",
       "2  Operating Expense & Equipment              2019          State Operations   \n",
       "3  Operating Expense & Equipment              2019          State Operations   \n",
       "4  Operating Expense & Equipment              2019          State Operations   \n",
       "\n",
       "   ...           Department Name Program Description  \\\n",
       "0  ...  Dept of Veterans Affairs    Clearing Account   \n",
       "1  ...  Dept of Veterans Affairs    Clearing Account   \n",
       "2  ...  Dept of Veterans Affairs    Clearing Account   \n",
       "3  ...  Dept of Veterans Affairs    Clearing Account   \n",
       "4  ...  Dept of Veterans Affairs    Clearing Account   \n",
       "\n",
       "     Budget Reference Description Fund Description Monetary Amount  \\\n",
       "0  BA State Operations-Support001     General Fund           17.14   \n",
       "1  BA State Operations-Support001     General Fund          102.84   \n",
       "2  BA State Operations-Support001     General Fund          136.55   \n",
       "3  BA State Operations-Support001     General Fund           94.12   \n",
       "4  BA State Operations-Support001     General Fund           30.42   \n",
       "\n",
       "  Program Code    Fund Group   Vendor Name _id Fund Code  \n",
       "0      9999000  General Fund  US FOODS INC   1      0001  \n",
       "1      9999000  General Fund  US FOODS INC   2      0001  \n",
       "2      9999000  General Fund  US FOODS INC   3      0001  \n",
       "3      9999000  General Fund  US FOODS INC   4      0001  \n",
       "4      9999000  General Fund  US FOODS INC   5      0001  \n",
       "\n",
       "[5 rows x 27 columns]"
      ]
     },
     "metadata": {},
     "output_type": "display_data"
    },
    {
     "name": "stdout",
     "output_type": "stream",
     "text": [
      "<class 'pandas.core.frame.DataFrame'>\n",
      "RangeIndex: 421481 entries, 0 to 421480\n",
      "Data columns (total 27 columns):\n",
      "Account Category                 421481 non-null object\n",
      "Budget Reference Sub-Category    421479 non-null object\n",
      "Accounting Period                421481 non-null object\n",
      "Account Description              421481 non-null object\n",
      "Business Unit                    421481 non-null object\n",
      "Agency Name                      421481 non-null object\n",
      "Related Document                 0 non-null object\n",
      "Account Type                     421481 non-null object\n",
      "Year of Enactment                421481 non-null object\n",
      "Budget Reference Category        421479 non-null object\n",
      "Budget Reference                 421479 non-null object\n",
      "Sub-Program Description          421479 non-null object\n",
      "Accounting Date                  421481 non-null object\n",
      "Account Sub-Category             421481 non-null object\n",
      "Fiscal Year Begin                421481 non-null object\n",
      "Account                          421481 non-null object\n",
      "Document ID                      421481 non-null object\n",
      "Department Name                  421481 non-null object\n",
      "Program Description              421479 non-null object\n",
      "Budget Reference Description     421479 non-null object\n",
      "Fund Description                 421481 non-null object\n",
      "Monetary Amount                  421481 non-null object\n",
      "Program Code                     421479 non-null object\n",
      "Fund Group                       421481 non-null object\n",
      "Vendor Name                      421481 non-null object\n",
      "_id                              421481 non-null int64\n",
      "Fund Code                        421481 non-null object\n",
      "dtypes: int64(1), object(26)\n",
      "memory usage: 86.8+ MB\n"
     ]
    },
    {
     "data": {
      "text/plain": [
       "None"
      ]
     },
     "metadata": {},
     "output_type": "display_data"
    }
   ],
   "source": [
    "# url for API\n",
    "url = 'https://catalog.ogopendata.com/api/3/action/datastore_search?'\n",
    "\n",
    "# resource ID list for desired months, this is november 2019, 2018, and 2017\n",
    "resource_id_list = [\n",
    "    'cc491680-1eb0-42d2-8dac-47a2f1204d3e',\n",
    "    'c007b59b-98a9-414d-9d51-f731b2dce40a',\n",
    "    'd7e40b35-cb38-41c6-ae89-95ac6abc9bd7'\n",
    "]\n",
    "\n",
    "# create an empty list to hold responses for the dataframe\n",
    "df_list = []\n",
    "\n",
    "# loop through resource_id_list\n",
    "for resource_id in resource_id_list:\n",
    "    \n",
    "    # the API limits us to 32000 rows of data, so we need to send a new request every 32000 rows\n",
    "    # this parameter allows us to skip rows for each request\n",
    "    offset = 0\n",
    "    \n",
    "    # set response length > 0 to initialize the loop below\n",
    "    response_length = 1\n",
    "    \n",
    "    # continue to make http requests as long as we keep getting responses\n",
    "    while response_length > 0: \n",
    "        \n",
    "        # these are the paramaters we send with the http API request\n",
    "        params = {\n",
    "            'resource_id' : resource_id, # resource ID\n",
    "            'limit' : 1000000, # the default is 100, we need more than that\n",
    "            'offset' : offset # this will increase by 32000 for each request\n",
    "        }\n",
    "\n",
    "        # get the response\n",
    "        print(f'Requesting {resource_id}')\n",
    "        response = requests.get(url, params=params).json()\n",
    "        \n",
    "        # loop through each transaction in the response and append to our list\n",
    "        for x in response['result']['records']:\n",
    "            df_list.append(x)\n",
    "\n",
    "        # increase offset since we only get 32000 rows per response\n",
    "        offset += 32000\n",
    "\n",
    "        # set the response length so the loop stops when we no longer return any data\n",
    "        response_length = len(response['result']['records'])\n",
    "        print(f'Current response length: {response_length}')\n",
    "    \n",
    "# turn the df_list into a pandas dataframe\n",
    "df = pd.DataFrame(df_list)\n",
    "\n",
    "# preview the dataframe and show some info about the dataframe\n",
    "display(df.head())\n",
    "display(df.info())"
   ]
  },
  {
   "cell_type": "markdown",
   "metadata": {},
   "source": [
    "# Querying with SQL\n",
    "\n",
    "We can also query with a SQL select string, however the return row limit is set at 32000 and there isn't an easy way around it since this API endpoint does not have the `offset` parameter, so choose your queries well!"
   ]
  },
  {
   "cell_type": "markdown",
   "metadata": {},
   "source": [
    "## Use SQL to get all vendors like %HARLEY% from a specific resource."
   ]
  },
  {
   "cell_type": "code",
   "execution_count": 12,
   "metadata": {},
   "outputs": [
    {
     "data": {
      "text/html": [
       "<div>\n",
       "<style scoped>\n",
       "    .dataframe tbody tr th:only-of-type {\n",
       "        vertical-align: middle;\n",
       "    }\n",
       "\n",
       "    .dataframe tbody tr th {\n",
       "        vertical-align: top;\n",
       "    }\n",
       "\n",
       "    .dataframe thead th {\n",
       "        text-align: right;\n",
       "    }\n",
       "</style>\n",
       "<table border=\"1\" class=\"dataframe\">\n",
       "  <thead>\n",
       "    <tr style=\"text-align: right;\">\n",
       "      <th></th>\n",
       "      <th>Account Category</th>\n",
       "      <th>Budget Reference Sub-Category</th>\n",
       "      <th>Accounting Period</th>\n",
       "      <th>Account Description</th>\n",
       "      <th>Business Unit</th>\n",
       "      <th>Agency Name</th>\n",
       "      <th>Related Document</th>\n",
       "      <th>Account Type</th>\n",
       "      <th>Year of Enactment</th>\n",
       "      <th>Budget Reference Category</th>\n",
       "      <th>...</th>\n",
       "      <th>Program Description</th>\n",
       "      <th>Budget Reference Description</th>\n",
       "      <th>Fund Description</th>\n",
       "      <th>Monetary Amount</th>\n",
       "      <th>Program Code</th>\n",
       "      <th>_full_text</th>\n",
       "      <th>Fund Group</th>\n",
       "      <th>Vendor Name</th>\n",
       "      <th>_id</th>\n",
       "      <th>Fund Code</th>\n",
       "    </tr>\n",
       "  </thead>\n",
       "  <tbody>\n",
       "    <tr>\n",
       "      <th>0</th>\n",
       "      <td>Other Items of Expense</td>\n",
       "      <td>Budget Act</td>\n",
       "      <td>5</td>\n",
       "      <td>Vehicle Maintena &amp; Repair Svcs</td>\n",
       "      <td>2720</td>\n",
       "      <td>Transportation</td>\n",
       "      <td>None</td>\n",
       "      <td>Operating Expense &amp; Equipment</td>\n",
       "      <td>2019</td>\n",
       "      <td>State Operations</td>\n",
       "      <td>...</td>\n",
       "      <td>Clearing Account</td>\n",
       "      <td>BA State Operations-Support001</td>\n",
       "      <td>Motor Vehicle Account, Stf</td>\n",
       "      <td>326.54</td>\n",
       "      <td>9999000</td>\n",
       "      <td>'-07':12 '-11':11 '001':49 '0044':37 '2019':10...</td>\n",
       "      <td>Special Funds</td>\n",
       "      <td>REDDING HARLEY-DAVIDSON INC</td>\n",
       "      <td>127</td>\n",
       "      <td>0044</td>\n",
       "    </tr>\n",
       "    <tr>\n",
       "      <th>1</th>\n",
       "      <td>Other Items of Expense</td>\n",
       "      <td>Budget Act</td>\n",
       "      <td>5</td>\n",
       "      <td>Vehicle Maintena &amp; Repair Svcs</td>\n",
       "      <td>2720</td>\n",
       "      <td>Transportation</td>\n",
       "      <td>None</td>\n",
       "      <td>Operating Expense &amp; Equipment</td>\n",
       "      <td>2019</td>\n",
       "      <td>State Operations</td>\n",
       "      <td>...</td>\n",
       "      <td>Clearing Account</td>\n",
       "      <td>BA State Operations-Support001</td>\n",
       "      <td>Motor Vehicle Account, Stf</td>\n",
       "      <td>737.55</td>\n",
       "      <td>9999000</td>\n",
       "      <td>'-07':12 '-11':11 '001':49 '0044':37 '2019':10...</td>\n",
       "      <td>Special Funds</td>\n",
       "      <td>POMONA VALLEY HARLEY-DAVIDSON</td>\n",
       "      <td>128</td>\n",
       "      <td>0044</td>\n",
       "    </tr>\n",
       "    <tr>\n",
       "      <th>2</th>\n",
       "      <td>Other Items of Expense</td>\n",
       "      <td>Budget Act</td>\n",
       "      <td>5</td>\n",
       "      <td>Vehicle Maintena &amp; Repair Svcs</td>\n",
       "      <td>2720</td>\n",
       "      <td>Transportation</td>\n",
       "      <td>None</td>\n",
       "      <td>Operating Expense &amp; Equipment</td>\n",
       "      <td>2019</td>\n",
       "      <td>State Operations</td>\n",
       "      <td>...</td>\n",
       "      <td>Clearing Account</td>\n",
       "      <td>BA State Operations-Support001</td>\n",
       "      <td>Motor Vehicle Account, Stf</td>\n",
       "      <td>1282.05</td>\n",
       "      <td>9999000</td>\n",
       "      <td>'-07':12 '-11':11 '001':49 '0044':37 '1282.05'...</td>\n",
       "      <td>Special Funds</td>\n",
       "      <td>POMONA VALLEY HARLEY-DAVIDSON</td>\n",
       "      <td>129</td>\n",
       "      <td>0044</td>\n",
       "    </tr>\n",
       "    <tr>\n",
       "      <th>3</th>\n",
       "      <td>Other Items of Expense</td>\n",
       "      <td>Budget Act</td>\n",
       "      <td>5</td>\n",
       "      <td>Vehicle Maintena &amp; Repair Svcs</td>\n",
       "      <td>2720</td>\n",
       "      <td>Transportation</td>\n",
       "      <td>None</td>\n",
       "      <td>Operating Expense &amp; Equipment</td>\n",
       "      <td>2019</td>\n",
       "      <td>State Operations</td>\n",
       "      <td>...</td>\n",
       "      <td>Clearing Account</td>\n",
       "      <td>BA State Operations-Support001</td>\n",
       "      <td>Motor Vehicle Account, Stf</td>\n",
       "      <td>24.75</td>\n",
       "      <td>9999000</td>\n",
       "      <td>'-07':12 '-11':11 '001':49 '0044':37 '2019':10...</td>\n",
       "      <td>Special Funds</td>\n",
       "      <td>POMONA VALLEY HARLEY-DAVIDSON</td>\n",
       "      <td>131</td>\n",
       "      <td>0044</td>\n",
       "    </tr>\n",
       "    <tr>\n",
       "      <th>4</th>\n",
       "      <td>Other Items of Expense</td>\n",
       "      <td>Budget Act</td>\n",
       "      <td>5</td>\n",
       "      <td>Vehicle Maintena &amp; Repair Svcs</td>\n",
       "      <td>2720</td>\n",
       "      <td>Transportation</td>\n",
       "      <td>None</td>\n",
       "      <td>Operating Expense &amp; Equipment</td>\n",
       "      <td>2019</td>\n",
       "      <td>State Operations</td>\n",
       "      <td>...</td>\n",
       "      <td>Clearing Account</td>\n",
       "      <td>BA State Operations-Support001</td>\n",
       "      <td>Motor Vehicle Account, Stf</td>\n",
       "      <td>306.9</td>\n",
       "      <td>9999000</td>\n",
       "      <td>'-07':12 '-11':11 '001':49 '0044':37 '2019':10...</td>\n",
       "      <td>Special Funds</td>\n",
       "      <td>POMONA VALLEY HARLEY-DAVIDSON</td>\n",
       "      <td>134</td>\n",
       "      <td>0044</td>\n",
       "    </tr>\n",
       "  </tbody>\n",
       "</table>\n",
       "<p>5 rows × 28 columns</p>\n",
       "</div>"
      ],
      "text/plain": [
       "         Account Category Budget Reference Sub-Category Accounting Period  \\\n",
       "0  Other Items of Expense                    Budget Act                 5   \n",
       "1  Other Items of Expense                    Budget Act                 5   \n",
       "2  Other Items of Expense                    Budget Act                 5   \n",
       "3  Other Items of Expense                    Budget Act                 5   \n",
       "4  Other Items of Expense                    Budget Act                 5   \n",
       "\n",
       "              Account Description Business Unit     Agency Name  \\\n",
       "0  Vehicle Maintena & Repair Svcs          2720  Transportation   \n",
       "1  Vehicle Maintena & Repair Svcs          2720  Transportation   \n",
       "2  Vehicle Maintena & Repair Svcs          2720  Transportation   \n",
       "3  Vehicle Maintena & Repair Svcs          2720  Transportation   \n",
       "4  Vehicle Maintena & Repair Svcs          2720  Transportation   \n",
       "\n",
       "  Related Document                   Account Type Year of Enactment  \\\n",
       "0             None  Operating Expense & Equipment              2019   \n",
       "1             None  Operating Expense & Equipment              2019   \n",
       "2             None  Operating Expense & Equipment              2019   \n",
       "3             None  Operating Expense & Equipment              2019   \n",
       "4             None  Operating Expense & Equipment              2019   \n",
       "\n",
       "  Budget Reference Category  ... Program Description  \\\n",
       "0          State Operations  ...    Clearing Account   \n",
       "1          State Operations  ...    Clearing Account   \n",
       "2          State Operations  ...    Clearing Account   \n",
       "3          State Operations  ...    Clearing Account   \n",
       "4          State Operations  ...    Clearing Account   \n",
       "\n",
       "     Budget Reference Description            Fund Description Monetary Amount  \\\n",
       "0  BA State Operations-Support001  Motor Vehicle Account, Stf          326.54   \n",
       "1  BA State Operations-Support001  Motor Vehicle Account, Stf          737.55   \n",
       "2  BA State Operations-Support001  Motor Vehicle Account, Stf         1282.05   \n",
       "3  BA State Operations-Support001  Motor Vehicle Account, Stf           24.75   \n",
       "4  BA State Operations-Support001  Motor Vehicle Account, Stf           306.9   \n",
       "\n",
       "  Program Code                                         _full_text  \\\n",
       "0      9999000  '-07':12 '-11':11 '001':49 '0044':37 '2019':10...   \n",
       "1      9999000  '-07':12 '-11':11 '001':49 '0044':37 '2019':10...   \n",
       "2      9999000  '-07':12 '-11':11 '001':49 '0044':37 '1282.05'...   \n",
       "3      9999000  '-07':12 '-11':11 '001':49 '0044':37 '2019':10...   \n",
       "4      9999000  '-07':12 '-11':11 '001':49 '0044':37 '2019':10...   \n",
       "\n",
       "      Fund Group                    Vendor Name  _id Fund Code  \n",
       "0  Special Funds    REDDING HARLEY-DAVIDSON INC  127      0044  \n",
       "1  Special Funds  POMONA VALLEY HARLEY-DAVIDSON  128      0044  \n",
       "2  Special Funds  POMONA VALLEY HARLEY-DAVIDSON  129      0044  \n",
       "3  Special Funds  POMONA VALLEY HARLEY-DAVIDSON  131      0044  \n",
       "4  Special Funds  POMONA VALLEY HARLEY-DAVIDSON  134      0044  \n",
       "\n",
       "[5 rows x 28 columns]"
      ]
     },
     "metadata": {},
     "output_type": "display_data"
    },
    {
     "name": "stdout",
     "output_type": "stream",
     "text": [
      "<class 'pandas.core.frame.DataFrame'>\n",
      "RangeIndex: 421 entries, 0 to 420\n",
      "Data columns (total 28 columns):\n",
      "Account Category                 421 non-null object\n",
      "Budget Reference Sub-Category    421 non-null object\n",
      "Accounting Period                421 non-null object\n",
      "Account Description              421 non-null object\n",
      "Business Unit                    421 non-null object\n",
      "Agency Name                      421 non-null object\n",
      "Related Document                 0 non-null object\n",
      "Account Type                     421 non-null object\n",
      "Year of Enactment                421 non-null object\n",
      "Budget Reference Category        421 non-null object\n",
      "Budget Reference                 421 non-null object\n",
      "Sub-Program Description          421 non-null object\n",
      "Accounting Date                  421 non-null object\n",
      "Account Sub-Category             421 non-null object\n",
      "Fiscal Year Begin                421 non-null object\n",
      "Account                          421 non-null object\n",
      "Document ID                      421 non-null object\n",
      "Department Name                  421 non-null object\n",
      "Program Description              421 non-null object\n",
      "Budget Reference Description     421 non-null object\n",
      "Fund Description                 421 non-null object\n",
      "Monetary Amount                  421 non-null object\n",
      "Program Code                     421 non-null object\n",
      "_full_text                       421 non-null object\n",
      "Fund Group                       421 non-null object\n",
      "Vendor Name                      421 non-null object\n",
      "_id                              421 non-null int64\n",
      "Fund Code                        421 non-null object\n",
      "dtypes: int64(1), object(27)\n",
      "memory usage: 92.2+ KB\n"
     ]
    },
    {
     "data": {
      "text/plain": [
       "None"
      ]
     },
     "metadata": {},
     "output_type": "display_data"
    }
   ],
   "source": [
    "# url for API\n",
    "url = 'https://catalog.ogopendata.com/api/3/action/datastore_search_sql?'\n",
    "\n",
    "# set to whatever resource ID and vendor you want\n",
    "resource_id = \"cc491680-1eb0-42d2-8dac-47a2f1204d3e\"\n",
    "vendor = '%HARLEY%'\n",
    "\n",
    "# sql queary text\n",
    "sql_query = f'''\n",
    "SELECT * FROM \"{resource_id}\"\n",
    "WHERE \"Vendor Name\" LIKE '{vendor}'\n",
    "'''\n",
    "\n",
    "# request params\n",
    "params = {\n",
    "    'sql' : sql_query\n",
    "}\n",
    "\n",
    "# get the response\n",
    "response = requests.get(url, params).json()\n",
    "\n",
    "# create dataframe from response\n",
    "df_list = []\n",
    "for x in response['result']['records']:\n",
    "        df_list.append(x)\n",
    "df = pd.DataFrame(df_list)\n",
    "\n",
    "# preview the dataframe and show some info about the dataframe\n",
    "display(df.head())\n",
    "display(df.info())"
   ]
  },
  {
   "cell_type": "markdown",
   "metadata": {},
   "source": [
    "## Use SQL to get all business units like 2720 from a specific resource."
   ]
  },
  {
   "cell_type": "code",
   "execution_count": 13,
   "metadata": {},
   "outputs": [
    {
     "data": {
      "text/html": [
       "<div>\n",
       "<style scoped>\n",
       "    .dataframe tbody tr th:only-of-type {\n",
       "        vertical-align: middle;\n",
       "    }\n",
       "\n",
       "    .dataframe tbody tr th {\n",
       "        vertical-align: top;\n",
       "    }\n",
       "\n",
       "    .dataframe thead th {\n",
       "        text-align: right;\n",
       "    }\n",
       "</style>\n",
       "<table border=\"1\" class=\"dataframe\">\n",
       "  <thead>\n",
       "    <tr style=\"text-align: right;\">\n",
       "      <th></th>\n",
       "      <th>Account Category</th>\n",
       "      <th>Budget Reference Sub-Category</th>\n",
       "      <th>Accounting Period</th>\n",
       "      <th>Account Description</th>\n",
       "      <th>Business Unit</th>\n",
       "      <th>Agency Name</th>\n",
       "      <th>Related Document</th>\n",
       "      <th>Account Type</th>\n",
       "      <th>Year of Enactment</th>\n",
       "      <th>Budget Reference Category</th>\n",
       "      <th>...</th>\n",
       "      <th>Program Description</th>\n",
       "      <th>Budget Reference Description</th>\n",
       "      <th>Fund Description</th>\n",
       "      <th>Monetary Amount</th>\n",
       "      <th>Program Code</th>\n",
       "      <th>_full_text</th>\n",
       "      <th>Fund Group</th>\n",
       "      <th>Vendor Name</th>\n",
       "      <th>_id</th>\n",
       "      <th>Fund Code</th>\n",
       "    </tr>\n",
       "  </thead>\n",
       "  <tbody>\n",
       "    <tr>\n",
       "      <th>0</th>\n",
       "      <td>Other Items of Expense</td>\n",
       "      <td>Budget Act</td>\n",
       "      <td>5</td>\n",
       "      <td>Vehicle Maintena &amp; Repair Svcs</td>\n",
       "      <td>2720</td>\n",
       "      <td>Transportation</td>\n",
       "      <td>None</td>\n",
       "      <td>Operating Expense &amp; Equipment</td>\n",
       "      <td>2019</td>\n",
       "      <td>State Operations</td>\n",
       "      <td>...</td>\n",
       "      <td>Clearing Account</td>\n",
       "      <td>BA State Operations-Support001</td>\n",
       "      <td>Motor Vehicle Account, Stf</td>\n",
       "      <td>326.54</td>\n",
       "      <td>9999000</td>\n",
       "      <td>'-07':12 '-11':11 '001':49 '0044':37 '2019':10...</td>\n",
       "      <td>Special Funds</td>\n",
       "      <td>REDDING HARLEY-DAVIDSON INC</td>\n",
       "      <td>127</td>\n",
       "      <td>0044</td>\n",
       "    </tr>\n",
       "    <tr>\n",
       "      <th>1</th>\n",
       "      <td>Other Items of Expense</td>\n",
       "      <td>Budget Act</td>\n",
       "      <td>5</td>\n",
       "      <td>Other Items of Expense - Goods</td>\n",
       "      <td>2720</td>\n",
       "      <td>Transportation</td>\n",
       "      <td>None</td>\n",
       "      <td>Operating Expense &amp; Equipment</td>\n",
       "      <td>2019</td>\n",
       "      <td>State Operations</td>\n",
       "      <td>...</td>\n",
       "      <td>Clearing Account</td>\n",
       "      <td>BA State Operations-Support001</td>\n",
       "      <td>Motor Vehicle Account, Stf</td>\n",
       "      <td>12.02</td>\n",
       "      <td>9999000</td>\n",
       "      <td>'-07':12 '-11':11 '001':45 '0044':33 '12.02':5...</td>\n",
       "      <td>Special Funds</td>\n",
       "      <td>Confidential</td>\n",
       "      <td>141</td>\n",
       "      <td>0044</td>\n",
       "    </tr>\n",
       "    <tr>\n",
       "      <th>2</th>\n",
       "      <td>Other Items of Expense</td>\n",
       "      <td>Budget Act</td>\n",
       "      <td>5</td>\n",
       "      <td>Vehicle Maintena &amp; Repair Svcs</td>\n",
       "      <td>2720</td>\n",
       "      <td>Transportation</td>\n",
       "      <td>None</td>\n",
       "      <td>Operating Expense &amp; Equipment</td>\n",
       "      <td>2019</td>\n",
       "      <td>State Operations</td>\n",
       "      <td>...</td>\n",
       "      <td>Clearing Account</td>\n",
       "      <td>BA State Operations-Support001</td>\n",
       "      <td>Motor Vehicle Account, Stf</td>\n",
       "      <td>737.55</td>\n",
       "      <td>9999000</td>\n",
       "      <td>'-07':12 '-11':11 '001':49 '0044':37 '2019':10...</td>\n",
       "      <td>Special Funds</td>\n",
       "      <td>POMONA VALLEY HARLEY-DAVIDSON</td>\n",
       "      <td>128</td>\n",
       "      <td>0044</td>\n",
       "    </tr>\n",
       "    <tr>\n",
       "      <th>3</th>\n",
       "      <td>Other Items of Expense</td>\n",
       "      <td>Budget Act</td>\n",
       "      <td>5</td>\n",
       "      <td>Vehicle Maintena &amp; Repair Svcs</td>\n",
       "      <td>2720</td>\n",
       "      <td>Transportation</td>\n",
       "      <td>None</td>\n",
       "      <td>Operating Expense &amp; Equipment</td>\n",
       "      <td>2019</td>\n",
       "      <td>State Operations</td>\n",
       "      <td>...</td>\n",
       "      <td>Clearing Account</td>\n",
       "      <td>BA State Operations-Support001</td>\n",
       "      <td>Motor Vehicle Account, Stf</td>\n",
       "      <td>1282.05</td>\n",
       "      <td>9999000</td>\n",
       "      <td>'-07':12 '-11':11 '001':49 '0044':37 '1282.05'...</td>\n",
       "      <td>Special Funds</td>\n",
       "      <td>POMONA VALLEY HARLEY-DAVIDSON</td>\n",
       "      <td>129</td>\n",
       "      <td>0044</td>\n",
       "    </tr>\n",
       "    <tr>\n",
       "      <th>4</th>\n",
       "      <td>Other Items of Expense</td>\n",
       "      <td>Budget Act</td>\n",
       "      <td>5</td>\n",
       "      <td>Vehicle Maintena &amp; Repair Svcs</td>\n",
       "      <td>2720</td>\n",
       "      <td>Transportation</td>\n",
       "      <td>None</td>\n",
       "      <td>Operating Expense &amp; Equipment</td>\n",
       "      <td>2019</td>\n",
       "      <td>State Operations</td>\n",
       "      <td>...</td>\n",
       "      <td>Clearing Account</td>\n",
       "      <td>BA State Operations-Support001</td>\n",
       "      <td>Motor Vehicle Account, Stf</td>\n",
       "      <td>1366.3</td>\n",
       "      <td>9999000</td>\n",
       "      <td>'-07':12 '-11':11 '001':48 '0044':36 '1366.3':...</td>\n",
       "      <td>Special Funds</td>\n",
       "      <td>WEST COAST AUTO BODY</td>\n",
       "      <td>130</td>\n",
       "      <td>0044</td>\n",
       "    </tr>\n",
       "  </tbody>\n",
       "</table>\n",
       "<p>5 rows × 28 columns</p>\n",
       "</div>"
      ],
      "text/plain": [
       "         Account Category Budget Reference Sub-Category Accounting Period  \\\n",
       "0  Other Items of Expense                    Budget Act                 5   \n",
       "1  Other Items of Expense                    Budget Act                 5   \n",
       "2  Other Items of Expense                    Budget Act                 5   \n",
       "3  Other Items of Expense                    Budget Act                 5   \n",
       "4  Other Items of Expense                    Budget Act                 5   \n",
       "\n",
       "              Account Description Business Unit     Agency Name  \\\n",
       "0  Vehicle Maintena & Repair Svcs          2720  Transportation   \n",
       "1  Other Items of Expense - Goods          2720  Transportation   \n",
       "2  Vehicle Maintena & Repair Svcs          2720  Transportation   \n",
       "3  Vehicle Maintena & Repair Svcs          2720  Transportation   \n",
       "4  Vehicle Maintena & Repair Svcs          2720  Transportation   \n",
       "\n",
       "  Related Document                   Account Type Year of Enactment  \\\n",
       "0             None  Operating Expense & Equipment              2019   \n",
       "1             None  Operating Expense & Equipment              2019   \n",
       "2             None  Operating Expense & Equipment              2019   \n",
       "3             None  Operating Expense & Equipment              2019   \n",
       "4             None  Operating Expense & Equipment              2019   \n",
       "\n",
       "  Budget Reference Category  ... Program Description  \\\n",
       "0          State Operations  ...    Clearing Account   \n",
       "1          State Operations  ...    Clearing Account   \n",
       "2          State Operations  ...    Clearing Account   \n",
       "3          State Operations  ...    Clearing Account   \n",
       "4          State Operations  ...    Clearing Account   \n",
       "\n",
       "     Budget Reference Description            Fund Description Monetary Amount  \\\n",
       "0  BA State Operations-Support001  Motor Vehicle Account, Stf          326.54   \n",
       "1  BA State Operations-Support001  Motor Vehicle Account, Stf           12.02   \n",
       "2  BA State Operations-Support001  Motor Vehicle Account, Stf          737.55   \n",
       "3  BA State Operations-Support001  Motor Vehicle Account, Stf         1282.05   \n",
       "4  BA State Operations-Support001  Motor Vehicle Account, Stf          1366.3   \n",
       "\n",
       "  Program Code                                         _full_text  \\\n",
       "0      9999000  '-07':12 '-11':11 '001':49 '0044':37 '2019':10...   \n",
       "1      9999000  '-07':12 '-11':11 '001':45 '0044':33 '12.02':5...   \n",
       "2      9999000  '-07':12 '-11':11 '001':49 '0044':37 '2019':10...   \n",
       "3      9999000  '-07':12 '-11':11 '001':49 '0044':37 '1282.05'...   \n",
       "4      9999000  '-07':12 '-11':11 '001':48 '0044':36 '1366.3':...   \n",
       "\n",
       "      Fund Group                    Vendor Name  _id Fund Code  \n",
       "0  Special Funds    REDDING HARLEY-DAVIDSON INC  127      0044  \n",
       "1  Special Funds                   Confidential  141      0044  \n",
       "2  Special Funds  POMONA VALLEY HARLEY-DAVIDSON  128      0044  \n",
       "3  Special Funds  POMONA VALLEY HARLEY-DAVIDSON  129      0044  \n",
       "4  Special Funds           WEST COAST AUTO BODY  130      0044  \n",
       "\n",
       "[5 rows x 28 columns]"
      ]
     },
     "metadata": {},
     "output_type": "display_data"
    },
    {
     "name": "stdout",
     "output_type": "stream",
     "text": [
      "<class 'pandas.core.frame.DataFrame'>\n",
      "RangeIndex: 13055 entries, 0 to 13054\n",
      "Data columns (total 28 columns):\n",
      "Account Category                 13055 non-null object\n",
      "Budget Reference Sub-Category    13055 non-null object\n",
      "Accounting Period                13055 non-null object\n",
      "Account Description              13055 non-null object\n",
      "Business Unit                    13055 non-null object\n",
      "Agency Name                      13055 non-null object\n",
      "Related Document                 0 non-null object\n",
      "Account Type                     13055 non-null object\n",
      "Year of Enactment                13055 non-null object\n",
      "Budget Reference Category        13055 non-null object\n",
      "Budget Reference                 13055 non-null object\n",
      "Sub-Program Description          13055 non-null object\n",
      "Accounting Date                  13055 non-null object\n",
      "Account Sub-Category             13055 non-null object\n",
      "Fiscal Year Begin                13055 non-null object\n",
      "Account                          13055 non-null object\n",
      "Document ID                      13055 non-null object\n",
      "Department Name                  13055 non-null object\n",
      "Program Description              13055 non-null object\n",
      "Budget Reference Description     13055 non-null object\n",
      "Fund Description                 13055 non-null object\n",
      "Monetary Amount                  13055 non-null object\n",
      "Program Code                     13055 non-null object\n",
      "_full_text                       13055 non-null object\n",
      "Fund Group                       13055 non-null object\n",
      "Vendor Name                      13055 non-null object\n",
      "_id                              13055 non-null int64\n",
      "Fund Code                        13055 non-null object\n",
      "dtypes: int64(1), object(27)\n",
      "memory usage: 2.8+ MB\n"
     ]
    },
    {
     "data": {
      "text/plain": [
       "None"
      ]
     },
     "metadata": {},
     "output_type": "display_data"
    }
   ],
   "source": [
    "# url for API\n",
    "url = 'https://catalog.ogopendata.com/api/3/action/datastore_search_sql?'\n",
    "\n",
    "# set to whatever resource ID and business unit you want\n",
    "resource_id = \"cc491680-1eb0-42d2-8dac-47a2f1204d3e\"\n",
    "business_unit = 2720\n",
    "\n",
    "# sql queary text\n",
    "sql_query = f'''\n",
    "SELECT * FROM \"{resource_id}\"\n",
    "WHERE \"Business Unit\" LIKE '{business_unit}'\n",
    "'''\n",
    "\n",
    "# request params\n",
    "params = {\n",
    "    'sql' : sql_query\n",
    "}\n",
    "\n",
    "# get the response\n",
    "response = requests.get(url, params).json()\n",
    "\n",
    "# create dataframe from response\n",
    "df_list = []\n",
    "for x in response['result']['records']:\n",
    "        df_list.append(x)\n",
    "df = pd.DataFrame(df_list)\n",
    "\n",
    "# preview the dataframe and show some info about the dataframe\n",
    "display(df.head())\n",
    "display(df.info())"
   ]
  },
  {
   "cell_type": "markdown",
   "metadata": {},
   "source": [
    "## Loop through all months with a SQL query\n",
    "\n",
    "We can use our resource id list we created earlier to loop through all months for our query. For example, we take take the harley vendor search we did earlier and perform over all months."
   ]
  },
  {
   "cell_type": "code",
   "execution_count": 14,
   "metadata": {},
   "outputs": [
    {
     "name": "stdout",
     "output_type": "stream",
     "text": [
      "Requesting Vendor Transactions for Fiscal Year 2019 Period 5 (November 2019)\n",
      "Requesting Vendor Transactions for Fiscal Year 2019 Period 4 (October 2019)\n",
      "Requesting Vendor Transactions for Fiscal Year 2019 Period 3 (September 2019)\n",
      "Requesting Vendor Transactions for Fiscal Year 2019 Period 2 (August 2019)\n",
      "Requesting Vendor Transactions for Fiscal Year 2019 Period 1 (July 2019)\n",
      "Requesting Vendor Transactions for Fiscal Year 2018 Period 12 (June 2019)\n",
      "Requesting Vendor Transactions for Fiscal Year 2018 Period 11 (May 2019)\n",
      "Requesting Vendor Transactions for Fiscal Year 2018 Period 10 (April 2019)\n",
      "Requesting Vendor Transactions for Fiscal Year 2018 Period 9 (March 2019)\n",
      "Requesting Vendor Transactions for Fiscal Year 2018 Period 8 (February 2019)\n",
      "Requesting Vendor Transactions for Fiscal Year 2018 Period 7 (January 2019)\n",
      "Requesting Vendor Transactions for Fiscal Year 2018 Period 6 (December 2018)\n",
      "Requesting Vendor Transactions for Fiscal Year 2018 Period 5 (November 2018)\n",
      "Requesting Vendor Transactions for Fiscal Year 2018 Period 4 (October 2018)\n",
      "Requesting Vendor Transactions for Fiscal Year 2018 Period 3 (September 2018)\n",
      "Requesting Vendor Transactions for Fiscal Year 2018 Period 2 (August 2018)\n",
      "Requesting Vendor Transactions for Fiscal Year 2018 Period 1 (July 2018)\n",
      "Requesting Vendor Transactions for Fiscal Year 2017 Period 12 (June 2018)\n",
      "Requesting Vendor Transactions for Fiscal Year 2017 Period 11 (May 2018)\n",
      "Requesting Vendor Transactions for Fiscal Year 2017 Period 10 (April 2018)\n",
      "Requesting Vendor Transactions for Fiscal Year 2017 Period 9 (March 2018)\n",
      "Requesting Vendor Transactions for Fiscal Year 2017 Period 8 (February 2018)\n",
      "Requesting Vendor Transactions for Fiscal Year 2017 Period 7 (January 2018)\n",
      "Requesting Vendor Transactions for Fiscal Year 2017 Period 6 (December 2017)\n",
      "Requesting Vendor Transactions for Fiscal Year 2017 Period 5 (November 2017)\n",
      "Requesting Vendor Transactions for Fiscal Year 2017 Period 4 (October 2017)\n",
      "Requesting Vendor Transactions for Fiscal Year 2017 Period 3 (September 2017)\n",
      "Requesting Vendor Transactions for Fiscal Year 2017 Period 2 (August 2017)\n",
      "Requesting Vendor Transactions for Fiscal Year 2017 Period 1 (July 2017)\n",
      "Requesting Vendor Transactions for Fiscal Year 2016 Period 12 (June 2017)\n",
      "Requesting Vendor Transactions for Fiscal Year 2016 Period 11 (May 2017)\n",
      "Requesting Vendor Transactions for Fiscal Year 2016 Period 10 (April 2017)\n",
      "Requesting Vendor Transactions for Fiscal Year 2016 Period 9 (March 2017)\n",
      "Requesting Vendor Transactions for Fiscal Year 2016 Period 8 (February 2017)\n",
      "Requesting Vendor Transactions for Fiscal Year 2016 Period 7 (January 2017)\n",
      "Requesting Vendor Transactions for Fiscal Year 2016 Period 6 (December 2016)\n",
      "Requesting Vendor Transactions for Fiscal Year 2016 Period 5 (November 2016)\n",
      "Requesting Vendor Transactions for Fiscal Year 2016 Period 4 (October 2016)\n",
      "Requesting Vendor Transactions for Fiscal Year 2016 Period 3 (September 2016)\n",
      "Requesting Vendor Transactions for Fiscal Year 2016 Period 2 (August 2016)\n",
      "Requesting Vendor Transactions for Fiscal Year 2016 Period 1 (July 2016)\n"
     ]
    },
    {
     "data": {
      "text/html": [
       "<div>\n",
       "<style scoped>\n",
       "    .dataframe tbody tr th:only-of-type {\n",
       "        vertical-align: middle;\n",
       "    }\n",
       "\n",
       "    .dataframe tbody tr th {\n",
       "        vertical-align: top;\n",
       "    }\n",
       "\n",
       "    .dataframe thead th {\n",
       "        text-align: right;\n",
       "    }\n",
       "</style>\n",
       "<table border=\"1\" class=\"dataframe\">\n",
       "  <thead>\n",
       "    <tr style=\"text-align: right;\">\n",
       "      <th></th>\n",
       "      <th>Account Category</th>\n",
       "      <th>Budget Reference Sub-Category</th>\n",
       "      <th>Accounting Period</th>\n",
       "      <th>Account Description</th>\n",
       "      <th>Business Unit</th>\n",
       "      <th>Agency Name</th>\n",
       "      <th>Related Document</th>\n",
       "      <th>Account Type</th>\n",
       "      <th>Year of Enactment</th>\n",
       "      <th>Budget Reference Category</th>\n",
       "      <th>...</th>\n",
       "      <th>Program Description</th>\n",
       "      <th>Budget Reference Description</th>\n",
       "      <th>Fund Description</th>\n",
       "      <th>Monetary Amount</th>\n",
       "      <th>Program Code</th>\n",
       "      <th>_full_text</th>\n",
       "      <th>Fund Group</th>\n",
       "      <th>Vendor Name</th>\n",
       "      <th>_id</th>\n",
       "      <th>Fund Code</th>\n",
       "    </tr>\n",
       "  </thead>\n",
       "  <tbody>\n",
       "    <tr>\n",
       "      <th>0</th>\n",
       "      <td>Other Items of Expense</td>\n",
       "      <td>Budget Act</td>\n",
       "      <td>5</td>\n",
       "      <td>Vehicle Maintena &amp; Repair Svcs</td>\n",
       "      <td>2720</td>\n",
       "      <td>Transportation</td>\n",
       "      <td>None</td>\n",
       "      <td>Operating Expense &amp; Equipment</td>\n",
       "      <td>2019</td>\n",
       "      <td>State Operations</td>\n",
       "      <td>...</td>\n",
       "      <td>Clearing Account</td>\n",
       "      <td>BA State Operations-Support001</td>\n",
       "      <td>Motor Vehicle Account, Stf</td>\n",
       "      <td>326.54</td>\n",
       "      <td>9999000</td>\n",
       "      <td>'-07':12 '-11':11 '001':49 '0044':37 '2019':10...</td>\n",
       "      <td>Special Funds</td>\n",
       "      <td>REDDING HARLEY-DAVIDSON INC</td>\n",
       "      <td>127</td>\n",
       "      <td>0044</td>\n",
       "    </tr>\n",
       "    <tr>\n",
       "      <th>1</th>\n",
       "      <td>Other Items of Expense</td>\n",
       "      <td>Budget Act</td>\n",
       "      <td>5</td>\n",
       "      <td>Vehicle Maintena &amp; Repair Svcs</td>\n",
       "      <td>2720</td>\n",
       "      <td>Transportation</td>\n",
       "      <td>None</td>\n",
       "      <td>Operating Expense &amp; Equipment</td>\n",
       "      <td>2019</td>\n",
       "      <td>State Operations</td>\n",
       "      <td>...</td>\n",
       "      <td>Clearing Account</td>\n",
       "      <td>BA State Operations-Support001</td>\n",
       "      <td>Motor Vehicle Account, Stf</td>\n",
       "      <td>737.55</td>\n",
       "      <td>9999000</td>\n",
       "      <td>'-07':12 '-11':11 '001':49 '0044':37 '2019':10...</td>\n",
       "      <td>Special Funds</td>\n",
       "      <td>POMONA VALLEY HARLEY-DAVIDSON</td>\n",
       "      <td>128</td>\n",
       "      <td>0044</td>\n",
       "    </tr>\n",
       "    <tr>\n",
       "      <th>2</th>\n",
       "      <td>Other Items of Expense</td>\n",
       "      <td>Budget Act</td>\n",
       "      <td>5</td>\n",
       "      <td>Vehicle Maintena &amp; Repair Svcs</td>\n",
       "      <td>2720</td>\n",
       "      <td>Transportation</td>\n",
       "      <td>None</td>\n",
       "      <td>Operating Expense &amp; Equipment</td>\n",
       "      <td>2019</td>\n",
       "      <td>State Operations</td>\n",
       "      <td>...</td>\n",
       "      <td>Clearing Account</td>\n",
       "      <td>BA State Operations-Support001</td>\n",
       "      <td>Motor Vehicle Account, Stf</td>\n",
       "      <td>1282.05</td>\n",
       "      <td>9999000</td>\n",
       "      <td>'-07':12 '-11':11 '001':49 '0044':37 '1282.05'...</td>\n",
       "      <td>Special Funds</td>\n",
       "      <td>POMONA VALLEY HARLEY-DAVIDSON</td>\n",
       "      <td>129</td>\n",
       "      <td>0044</td>\n",
       "    </tr>\n",
       "    <tr>\n",
       "      <th>3</th>\n",
       "      <td>Other Items of Expense</td>\n",
       "      <td>Budget Act</td>\n",
       "      <td>5</td>\n",
       "      <td>Vehicle Maintena &amp; Repair Svcs</td>\n",
       "      <td>2720</td>\n",
       "      <td>Transportation</td>\n",
       "      <td>None</td>\n",
       "      <td>Operating Expense &amp; Equipment</td>\n",
       "      <td>2019</td>\n",
       "      <td>State Operations</td>\n",
       "      <td>...</td>\n",
       "      <td>Clearing Account</td>\n",
       "      <td>BA State Operations-Support001</td>\n",
       "      <td>Motor Vehicle Account, Stf</td>\n",
       "      <td>24.75</td>\n",
       "      <td>9999000</td>\n",
       "      <td>'-07':12 '-11':11 '001':49 '0044':37 '2019':10...</td>\n",
       "      <td>Special Funds</td>\n",
       "      <td>POMONA VALLEY HARLEY-DAVIDSON</td>\n",
       "      <td>131</td>\n",
       "      <td>0044</td>\n",
       "    </tr>\n",
       "    <tr>\n",
       "      <th>4</th>\n",
       "      <td>Other Items of Expense</td>\n",
       "      <td>Budget Act</td>\n",
       "      <td>5</td>\n",
       "      <td>Vehicle Maintena &amp; Repair Svcs</td>\n",
       "      <td>2720</td>\n",
       "      <td>Transportation</td>\n",
       "      <td>None</td>\n",
       "      <td>Operating Expense &amp; Equipment</td>\n",
       "      <td>2019</td>\n",
       "      <td>State Operations</td>\n",
       "      <td>...</td>\n",
       "      <td>Clearing Account</td>\n",
       "      <td>BA State Operations-Support001</td>\n",
       "      <td>Motor Vehicle Account, Stf</td>\n",
       "      <td>306.9</td>\n",
       "      <td>9999000</td>\n",
       "      <td>'-07':12 '-11':11 '001':49 '0044':37 '2019':10...</td>\n",
       "      <td>Special Funds</td>\n",
       "      <td>POMONA VALLEY HARLEY-DAVIDSON</td>\n",
       "      <td>134</td>\n",
       "      <td>0044</td>\n",
       "    </tr>\n",
       "  </tbody>\n",
       "</table>\n",
       "<p>5 rows × 28 columns</p>\n",
       "</div>"
      ],
      "text/plain": [
       "         Account Category Budget Reference Sub-Category Accounting Period  \\\n",
       "0  Other Items of Expense                    Budget Act                 5   \n",
       "1  Other Items of Expense                    Budget Act                 5   \n",
       "2  Other Items of Expense                    Budget Act                 5   \n",
       "3  Other Items of Expense                    Budget Act                 5   \n",
       "4  Other Items of Expense                    Budget Act                 5   \n",
       "\n",
       "              Account Description Business Unit     Agency Name  \\\n",
       "0  Vehicle Maintena & Repair Svcs          2720  Transportation   \n",
       "1  Vehicle Maintena & Repair Svcs          2720  Transportation   \n",
       "2  Vehicle Maintena & Repair Svcs          2720  Transportation   \n",
       "3  Vehicle Maintena & Repair Svcs          2720  Transportation   \n",
       "4  Vehicle Maintena & Repair Svcs          2720  Transportation   \n",
       "\n",
       "  Related Document                   Account Type Year of Enactment  \\\n",
       "0             None  Operating Expense & Equipment              2019   \n",
       "1             None  Operating Expense & Equipment              2019   \n",
       "2             None  Operating Expense & Equipment              2019   \n",
       "3             None  Operating Expense & Equipment              2019   \n",
       "4             None  Operating Expense & Equipment              2019   \n",
       "\n",
       "  Budget Reference Category  ... Program Description  \\\n",
       "0          State Operations  ...    Clearing Account   \n",
       "1          State Operations  ...    Clearing Account   \n",
       "2          State Operations  ...    Clearing Account   \n",
       "3          State Operations  ...    Clearing Account   \n",
       "4          State Operations  ...    Clearing Account   \n",
       "\n",
       "     Budget Reference Description            Fund Description Monetary Amount  \\\n",
       "0  BA State Operations-Support001  Motor Vehicle Account, Stf          326.54   \n",
       "1  BA State Operations-Support001  Motor Vehicle Account, Stf          737.55   \n",
       "2  BA State Operations-Support001  Motor Vehicle Account, Stf         1282.05   \n",
       "3  BA State Operations-Support001  Motor Vehicle Account, Stf           24.75   \n",
       "4  BA State Operations-Support001  Motor Vehicle Account, Stf           306.9   \n",
       "\n",
       "  Program Code                                         _full_text  \\\n",
       "0      9999000  '-07':12 '-11':11 '001':49 '0044':37 '2019':10...   \n",
       "1      9999000  '-07':12 '-11':11 '001':49 '0044':37 '2019':10...   \n",
       "2      9999000  '-07':12 '-11':11 '001':49 '0044':37 '1282.05'...   \n",
       "3      9999000  '-07':12 '-11':11 '001':49 '0044':37 '2019':10...   \n",
       "4      9999000  '-07':12 '-11':11 '001':49 '0044':37 '2019':10...   \n",
       "\n",
       "      Fund Group                    Vendor Name  _id Fund Code  \n",
       "0  Special Funds    REDDING HARLEY-DAVIDSON INC  127      0044  \n",
       "1  Special Funds  POMONA VALLEY HARLEY-DAVIDSON  128      0044  \n",
       "2  Special Funds  POMONA VALLEY HARLEY-DAVIDSON  129      0044  \n",
       "3  Special Funds  POMONA VALLEY HARLEY-DAVIDSON  131      0044  \n",
       "4  Special Funds  POMONA VALLEY HARLEY-DAVIDSON  134      0044  \n",
       "\n",
       "[5 rows x 28 columns]"
      ]
     },
     "metadata": {},
     "output_type": "display_data"
    },
    {
     "name": "stdout",
     "output_type": "stream",
     "text": [
      "<class 'pandas.core.frame.DataFrame'>\n",
      "RangeIndex: 4044 entries, 0 to 4043\n",
      "Data columns (total 28 columns):\n",
      "Account Category                 4044 non-null object\n",
      "Budget Reference Sub-Category    4044 non-null object\n",
      "Accounting Period                4044 non-null object\n",
      "Account Description              4044 non-null object\n",
      "Business Unit                    4044 non-null object\n",
      "Agency Name                      4044 non-null object\n",
      "Related Document                 0 non-null object\n",
      "Account Type                     4044 non-null object\n",
      "Year of Enactment                4044 non-null object\n",
      "Budget Reference Category        4044 non-null object\n",
      "Budget Reference                 4044 non-null object\n",
      "Sub-Program Description          4044 non-null object\n",
      "Accounting Date                  4044 non-null object\n",
      "Account Sub-Category             4044 non-null object\n",
      "Fiscal Year Begin                4044 non-null object\n",
      "Account                          4044 non-null object\n",
      "Document ID                      4044 non-null object\n",
      "Department Name                  4044 non-null object\n",
      "Program Description              4044 non-null object\n",
      "Budget Reference Description     4044 non-null object\n",
      "Fund Description                 4044 non-null object\n",
      "Monetary Amount                  4044 non-null object\n",
      "Program Code                     4044 non-null object\n",
      "_full_text                       4044 non-null object\n",
      "Fund Group                       4044 non-null object\n",
      "Vendor Name                      4044 non-null object\n",
      "_id                              4044 non-null int64\n",
      "Fund Code                        4044 non-null object\n",
      "dtypes: int64(1), object(27)\n",
      "memory usage: 884.8+ KB\n"
     ]
    },
    {
     "data": {
      "text/plain": [
       "None"
      ]
     },
     "metadata": {},
     "output_type": "display_data"
    }
   ],
   "source": [
    "# url for API\n",
    "url = 'https://catalog.ogopendata.com/api/3/action/datastore_search_sql?'\n",
    "\n",
    "# set to whatever vendor you want\n",
    "vendor = '%HARLEY%'\n",
    "\n",
    "# create dataframe from response\n",
    "df_list = []\n",
    "\n",
    "for x in resource_dictionary:\n",
    "    \n",
    "    # sql queary text\n",
    "    sql_query = f'''\n",
    "    SELECT * FROM \"{x['resource_id']}\"\n",
    "    WHERE \"Vendor Name\" LIKE '{vendor}'\n",
    "    '''\n",
    "\n",
    "    # request params\n",
    "    params = {\n",
    "        'sql' : sql_query\n",
    "    }\n",
    "\n",
    "    # get the response\n",
    "    response = requests.get(url, params).json()\n",
    "    print(f\"Requesting {x['description']}\")\n",
    "    \n",
    "    # write response to list\n",
    "    for x in response['result']['records']:\n",
    "            df_list.append(x)\n",
    "\n",
    "# create dataframe from list\n",
    "df = pd.DataFrame(df_list)\n",
    "\n",
    "# preview the dataframe and show some info about the dataframe\n",
    "display(df.head())\n",
    "display(df.info())"
   ]
  },
  {
   "cell_type": "markdown",
   "metadata": {},
   "source": [
    "# Plain Text Search Query\n",
    "\n",
    "We can also do a plain text search. This endpoint contains the `offset` param, so we don't have to worry about the 32000 row limit. Here we'll search for all rows containing the phrase `paper` for November 2019."
   ]
  },
  {
   "cell_type": "code",
   "execution_count": 15,
   "metadata": {},
   "outputs": [
    {
     "data": {
      "text/html": [
       "<div>\n",
       "<style scoped>\n",
       "    .dataframe tbody tr th:only-of-type {\n",
       "        vertical-align: middle;\n",
       "    }\n",
       "\n",
       "    .dataframe tbody tr th {\n",
       "        vertical-align: top;\n",
       "    }\n",
       "\n",
       "    .dataframe thead th {\n",
       "        text-align: right;\n",
       "    }\n",
       "</style>\n",
       "<table border=\"1\" class=\"dataframe\">\n",
       "  <thead>\n",
       "    <tr style=\"text-align: right;\">\n",
       "      <th></th>\n",
       "      <th>Account Category</th>\n",
       "      <th>Budget Reference Sub-Category</th>\n",
       "      <th>Accounting Period</th>\n",
       "      <th>Account Description</th>\n",
       "      <th>rank</th>\n",
       "      <th>Business Unit</th>\n",
       "      <th>Agency Name</th>\n",
       "      <th>Related Document</th>\n",
       "      <th>Account Type</th>\n",
       "      <th>Year of Enactment</th>\n",
       "      <th>...</th>\n",
       "      <th>Department Name</th>\n",
       "      <th>Program Description</th>\n",
       "      <th>Budget Reference Description</th>\n",
       "      <th>Fund Description</th>\n",
       "      <th>Monetary Amount</th>\n",
       "      <th>Program Code</th>\n",
       "      <th>Fund Group</th>\n",
       "      <th>Vendor Name</th>\n",
       "      <th>_id</th>\n",
       "      <th>Fund Code</th>\n",
       "    </tr>\n",
       "  </thead>\n",
       "  <tbody>\n",
       "    <tr>\n",
       "      <th>0</th>\n",
       "      <td>Information Technology</td>\n",
       "      <td>Budget Act</td>\n",
       "      <td>5</td>\n",
       "      <td>IT Supplies (Paper, Toner, etc</td>\n",
       "      <td>0.057309</td>\n",
       "      <td>8570</td>\n",
       "      <td>General Government</td>\n",
       "      <td>None</td>\n",
       "      <td>Operating Expense &amp; Equipment</td>\n",
       "      <td>2019</td>\n",
       "      <td>...</td>\n",
       "      <td>Dept of Food &amp; Agriculture</td>\n",
       "      <td>Clearing Account</td>\n",
       "      <td>BA State Operations-Support001</td>\n",
       "      <td>General Fund</td>\n",
       "      <td>266.7</td>\n",
       "      <td>9999000</td>\n",
       "      <td>General Fund</td>\n",
       "      <td>RASIX COMPUTER CENTER</td>\n",
       "      <td>253884</td>\n",
       "      <td>0001</td>\n",
       "    </tr>\n",
       "    <tr>\n",
       "      <th>1</th>\n",
       "      <td>Information Technology</td>\n",
       "      <td>Budget Act</td>\n",
       "      <td>5</td>\n",
       "      <td>IT Supplies (Paper, Toner, etc</td>\n",
       "      <td>0.057309</td>\n",
       "      <td>4150</td>\n",
       "      <td>Health and Human Services</td>\n",
       "      <td>None</td>\n",
       "      <td>Operating Expense &amp; Equipment</td>\n",
       "      <td>2019</td>\n",
       "      <td>...</td>\n",
       "      <td>Dept of Managed Health Care</td>\n",
       "      <td>Health Plan Program</td>\n",
       "      <td>BA State Operations-Support001</td>\n",
       "      <td>Managed Care Fund</td>\n",
       "      <td>140.1</td>\n",
       "      <td>3870000</td>\n",
       "      <td>Special Funds</td>\n",
       "      <td>RASIX COMPUTER CENTER</td>\n",
       "      <td>318</td>\n",
       "      <td>0933</td>\n",
       "    </tr>\n",
       "    <tr>\n",
       "      <th>2</th>\n",
       "      <td>Information Technology</td>\n",
       "      <td>Budget Act</td>\n",
       "      <td>5</td>\n",
       "      <td>IT Supplies (Paper, Toner, etc</td>\n",
       "      <td>0.057309</td>\n",
       "      <td>4150</td>\n",
       "      <td>Health and Human Services</td>\n",
       "      <td>None</td>\n",
       "      <td>Operating Expense &amp; Equipment</td>\n",
       "      <td>2019</td>\n",
       "      <td>...</td>\n",
       "      <td>Dept of Managed Health Care</td>\n",
       "      <td>Health Plan Program</td>\n",
       "      <td>BA State Operations-Support001</td>\n",
       "      <td>Managed Care Fund</td>\n",
       "      <td>140.1</td>\n",
       "      <td>3870000</td>\n",
       "      <td>Special Funds</td>\n",
       "      <td>RASIX COMPUTER CENTER</td>\n",
       "      <td>319</td>\n",
       "      <td>0933</td>\n",
       "    </tr>\n",
       "    <tr>\n",
       "      <th>3</th>\n",
       "      <td>Information Technology</td>\n",
       "      <td>Budget Act</td>\n",
       "      <td>5</td>\n",
       "      <td>IT Supplies (Paper, Toner, etc</td>\n",
       "      <td>0.057309</td>\n",
       "      <td>4150</td>\n",
       "      <td>Health and Human Services</td>\n",
       "      <td>None</td>\n",
       "      <td>Operating Expense &amp; Equipment</td>\n",
       "      <td>2019</td>\n",
       "      <td>...</td>\n",
       "      <td>Dept of Managed Health Care</td>\n",
       "      <td>Health Plan Program</td>\n",
       "      <td>BA State Operations-Support001</td>\n",
       "      <td>Managed Care Fund</td>\n",
       "      <td>214.48</td>\n",
       "      <td>3870000</td>\n",
       "      <td>Special Funds</td>\n",
       "      <td>RASIX COMPUTER CENTER</td>\n",
       "      <td>320</td>\n",
       "      <td>0933</td>\n",
       "    </tr>\n",
       "    <tr>\n",
       "      <th>4</th>\n",
       "      <td>Information Technology</td>\n",
       "      <td>Budget Act</td>\n",
       "      <td>5</td>\n",
       "      <td>IT Supplies (Paper, Toner, etc</td>\n",
       "      <td>0.057309</td>\n",
       "      <td>5175</td>\n",
       "      <td>Health and Human Services</td>\n",
       "      <td>None</td>\n",
       "      <td>Operating Expense &amp; Equipment</td>\n",
       "      <td>2018</td>\n",
       "      <td>...</td>\n",
       "      <td>Dept of Child Support Services</td>\n",
       "      <td>Clearing Account</td>\n",
       "      <td>BA State Operations-Support001</td>\n",
       "      <td>General Fund</td>\n",
       "      <td>5186.6</td>\n",
       "      <td>9999000</td>\n",
       "      <td>General Fund</td>\n",
       "      <td>ABLEGOV INC</td>\n",
       "      <td>2044</td>\n",
       "      <td>0001</td>\n",
       "    </tr>\n",
       "  </tbody>\n",
       "</table>\n",
       "<p>5 rows × 28 columns</p>\n",
       "</div>"
      ],
      "text/plain": [
       "         Account Category Budget Reference Sub-Category Accounting Period  \\\n",
       "0  Information Technology                    Budget Act                 5   \n",
       "1  Information Technology                    Budget Act                 5   \n",
       "2  Information Technology                    Budget Act                 5   \n",
       "3  Information Technology                    Budget Act                 5   \n",
       "4  Information Technology                    Budget Act                 5   \n",
       "\n",
       "              Account Description      rank Business Unit  \\\n",
       "0  IT Supplies (Paper, Toner, etc  0.057309          8570   \n",
       "1  IT Supplies (Paper, Toner, etc  0.057309          4150   \n",
       "2  IT Supplies (Paper, Toner, etc  0.057309          4150   \n",
       "3  IT Supplies (Paper, Toner, etc  0.057309          4150   \n",
       "4  IT Supplies (Paper, Toner, etc  0.057309          5175   \n",
       "\n",
       "                 Agency Name Related Document                   Account Type  \\\n",
       "0         General Government             None  Operating Expense & Equipment   \n",
       "1  Health and Human Services             None  Operating Expense & Equipment   \n",
       "2  Health and Human Services             None  Operating Expense & Equipment   \n",
       "3  Health and Human Services             None  Operating Expense & Equipment   \n",
       "4  Health and Human Services             None  Operating Expense & Equipment   \n",
       "\n",
       "  Year of Enactment  ...                 Department Name  Program Description  \\\n",
       "0              2019  ...      Dept of Food & Agriculture     Clearing Account   \n",
       "1              2019  ...     Dept of Managed Health Care  Health Plan Program   \n",
       "2              2019  ...     Dept of Managed Health Care  Health Plan Program   \n",
       "3              2019  ...     Dept of Managed Health Care  Health Plan Program   \n",
       "4              2018  ...  Dept of Child Support Services     Clearing Account   \n",
       "\n",
       "     Budget Reference Description   Fund Description Monetary Amount  \\\n",
       "0  BA State Operations-Support001       General Fund           266.7   \n",
       "1  BA State Operations-Support001  Managed Care Fund           140.1   \n",
       "2  BA State Operations-Support001  Managed Care Fund           140.1   \n",
       "3  BA State Operations-Support001  Managed Care Fund          214.48   \n",
       "4  BA State Operations-Support001       General Fund          5186.6   \n",
       "\n",
       "  Program Code     Fund Group            Vendor Name     _id Fund Code  \n",
       "0      9999000   General Fund  RASIX COMPUTER CENTER  253884      0001  \n",
       "1      3870000  Special Funds  RASIX COMPUTER CENTER     318      0933  \n",
       "2      3870000  Special Funds  RASIX COMPUTER CENTER     319      0933  \n",
       "3      3870000  Special Funds  RASIX COMPUTER CENTER     320      0933  \n",
       "4      9999000   General Fund            ABLEGOV INC    2044      0001  \n",
       "\n",
       "[5 rows x 28 columns]"
      ]
     },
     "metadata": {},
     "output_type": "display_data"
    },
    {
     "name": "stdout",
     "output_type": "stream",
     "text": [
      "<class 'pandas.core.frame.DataFrame'>\n",
      "RangeIndex: 1780 entries, 0 to 1779\n",
      "Data columns (total 28 columns):\n",
      "Account Category                 1780 non-null object\n",
      "Budget Reference Sub-Category    1780 non-null object\n",
      "Accounting Period                1780 non-null object\n",
      "Account Description              1780 non-null object\n",
      "rank                             1780 non-null float64\n",
      "Business Unit                    1780 non-null object\n",
      "Agency Name                      1780 non-null object\n",
      "Related Document                 0 non-null object\n",
      "Account Type                     1780 non-null object\n",
      "Year of Enactment                1780 non-null object\n",
      "Budget Reference Category        1780 non-null object\n",
      "Budget Reference                 1780 non-null object\n",
      "Sub-Program Description          1780 non-null object\n",
      "Accounting Date                  1780 non-null object\n",
      "Account Sub-Category             1780 non-null object\n",
      "Fiscal Year Begin                1780 non-null object\n",
      "Account                          1780 non-null object\n",
      "Document ID                      1780 non-null object\n",
      "Department Name                  1780 non-null object\n",
      "Program Description              1780 non-null object\n",
      "Budget Reference Description     1780 non-null object\n",
      "Fund Description                 1780 non-null object\n",
      "Monetary Amount                  1780 non-null object\n",
      "Program Code                     1780 non-null object\n",
      "Fund Group                       1780 non-null object\n",
      "Vendor Name                      1780 non-null object\n",
      "_id                              1780 non-null int64\n",
      "Fund Code                        1780 non-null object\n",
      "dtypes: float64(1), int64(1), object(26)\n",
      "memory usage: 389.5+ KB\n"
     ]
    },
    {
     "data": {
      "text/plain": [
       "None"
      ]
     },
     "metadata": {},
     "output_type": "display_data"
    }
   ],
   "source": [
    "# url for API\n",
    "url = 'https://catalog.ogopendata.com/api/3/action/datastore_search?'\n",
    "\n",
    "# resource ID for desired month, this is november 2019\n",
    "resource_id = 'cc491680-1eb0-42d2-8dac-47a2f1204d3e'\n",
    "\n",
    "# search text\n",
    "search_text = 'paper'\n",
    "\n",
    "# create an empty list to hold responses for the dataframe\n",
    "df_list = []\n",
    "\n",
    "# the API limits us to 32000 rows of data, so we need to send a new request every 32000 rows\n",
    "# this parameter allows us to skip rows for each request\n",
    "offset = 0\n",
    "\n",
    "# set response length > 0 to initialize the loop below\n",
    "response_length = 1\n",
    "\n",
    "# continue to make http requests as long as we keep getting responses\n",
    "while response_length > 0: \n",
    "    \n",
    "    # these are the paramaters we send with the http API request\n",
    "    params = {\n",
    "        'resource_id' : resource_id,\n",
    "        'q' : search_text,\n",
    "        'plain' : False,\n",
    "        'limit' : 1000000, # the default is 100, we need more than that\n",
    "        'offset' : offset # this will increase by 32000 for each request\n",
    "    }\n",
    "    \n",
    "    # get the response\n",
    "    response = requests.get(url, params=params).json()\n",
    "    \n",
    "    # loop through each transaction in the response and append to our list\n",
    "    for x in response['result']['records']:\n",
    "        df_list.append(x)\n",
    "    \n",
    "    # increase offset since we only get 32000 rows per response\n",
    "    offset += 32000\n",
    "    \n",
    "    # set the response length so the loop stops when we no longer return any data\n",
    "    response_length = len(response['result']['records'])\n",
    "    \n",
    "# turn the df_list into a pandas dataframe\n",
    "df = pd.DataFrame(df_list)\n",
    "\n",
    "# preview the dataframe and show some info about the dataframe\n",
    "display(df.head())\n",
    "display(df.info())"
   ]
  },
  {
   "cell_type": "markdown",
   "metadata": {},
   "source": [
    "## Plain text search for all months\n",
    "\n",
    "Using the resource ID list we created earlier, we can return our query for all months. This is the same paper query as above. Note that this takes awhile."
   ]
  },
  {
   "cell_type": "code",
   "execution_count": 16,
   "metadata": {},
   "outputs": [
    {
     "name": "stdout",
     "output_type": "stream",
     "text": [
      "Requesting Vendor Transactions for Fiscal Year 2019 Period 5 (November 2019)\n",
      "Requesting Vendor Transactions for Fiscal Year 2019 Period 4 (October 2019)\n",
      "Requesting Vendor Transactions for Fiscal Year 2019 Period 3 (September 2019)\n",
      "Requesting Vendor Transactions for Fiscal Year 2019 Period 2 (August 2019)\n",
      "Requesting Vendor Transactions for Fiscal Year 2019 Period 1 (July 2019)\n",
      "Requesting Vendor Transactions for Fiscal Year 2018 Period 12 (June 2019)\n",
      "Requesting Vendor Transactions for Fiscal Year 2018 Period 11 (May 2019)\n",
      "Requesting Vendor Transactions for Fiscal Year 2018 Period 10 (April 2019)\n",
      "Requesting Vendor Transactions for Fiscal Year 2018 Period 9 (March 2019)\n",
      "Requesting Vendor Transactions for Fiscal Year 2018 Period 8 (February 2019)\n",
      "Requesting Vendor Transactions for Fiscal Year 2018 Period 7 (January 2019)\n",
      "Requesting Vendor Transactions for Fiscal Year 2018 Period 6 (December 2018)\n",
      "Requesting Vendor Transactions for Fiscal Year 2018 Period 5 (November 2018)\n",
      "Requesting Vendor Transactions for Fiscal Year 2018 Period 4 (October 2018)\n",
      "Requesting Vendor Transactions for Fiscal Year 2018 Period 3 (September 2018)\n",
      "Requesting Vendor Transactions for Fiscal Year 2018 Period 2 (August 2018)\n",
      "Requesting Vendor Transactions for Fiscal Year 2018 Period 1 (July 2018)\n",
      "Requesting Vendor Transactions for Fiscal Year 2017 Period 12 (June 2018)\n",
      "Requesting Vendor Transactions for Fiscal Year 2017 Period 11 (May 2018)\n",
      "Requesting Vendor Transactions for Fiscal Year 2017 Period 10 (April 2018)\n",
      "Requesting Vendor Transactions for Fiscal Year 2017 Period 9 (March 2018)\n",
      "Requesting Vendor Transactions for Fiscal Year 2017 Period 8 (February 2018)\n",
      "Requesting Vendor Transactions for Fiscal Year 2017 Period 7 (January 2018)\n",
      "Requesting Vendor Transactions for Fiscal Year 2017 Period 6 (December 2017)\n",
      "Requesting Vendor Transactions for Fiscal Year 2017 Period 5 (November 2017)\n",
      "Requesting Vendor Transactions for Fiscal Year 2017 Period 4 (October 2017)\n",
      "Requesting Vendor Transactions for Fiscal Year 2017 Period 3 (September 2017)\n",
      "Requesting Vendor Transactions for Fiscal Year 2017 Period 2 (August 2017)\n",
      "Requesting Vendor Transactions for Fiscal Year 2017 Period 1 (July 2017)\n",
      "Requesting Vendor Transactions for Fiscal Year 2016 Period 12 (June 2017)\n",
      "Requesting Vendor Transactions for Fiscal Year 2016 Period 11 (May 2017)\n",
      "Requesting Vendor Transactions for Fiscal Year 2016 Period 10 (April 2017)\n",
      "Requesting Vendor Transactions for Fiscal Year 2016 Period 9 (March 2017)\n",
      "Requesting Vendor Transactions for Fiscal Year 2016 Period 8 (February 2017)\n",
      "Requesting Vendor Transactions for Fiscal Year 2016 Period 7 (January 2017)\n",
      "Requesting Vendor Transactions for Fiscal Year 2016 Period 6 (December 2016)\n",
      "Requesting Vendor Transactions for Fiscal Year 2016 Period 5 (November 2016)\n",
      "Requesting Vendor Transactions for Fiscal Year 2016 Period 4 (October 2016)\n",
      "Requesting Vendor Transactions for Fiscal Year 2016 Period 3 (September 2016)\n",
      "Requesting Vendor Transactions for Fiscal Year 2016 Period 2 (August 2016)\n",
      "Requesting Vendor Transactions for Fiscal Year 2016 Period 1 (July 2016)\n"
     ]
    },
    {
     "data": {
      "text/html": [
       "<div>\n",
       "<style scoped>\n",
       "    .dataframe tbody tr th:only-of-type {\n",
       "        vertical-align: middle;\n",
       "    }\n",
       "\n",
       "    .dataframe tbody tr th {\n",
       "        vertical-align: top;\n",
       "    }\n",
       "\n",
       "    .dataframe thead th {\n",
       "        text-align: right;\n",
       "    }\n",
       "</style>\n",
       "<table border=\"1\" class=\"dataframe\">\n",
       "  <thead>\n",
       "    <tr style=\"text-align: right;\">\n",
       "      <th></th>\n",
       "      <th>Account Category</th>\n",
       "      <th>Budget Reference Sub-Category</th>\n",
       "      <th>Accounting Period</th>\n",
       "      <th>Account Description</th>\n",
       "      <th>rank</th>\n",
       "      <th>Business Unit</th>\n",
       "      <th>Agency Name</th>\n",
       "      <th>Related Document</th>\n",
       "      <th>Account Type</th>\n",
       "      <th>Year of Enactment</th>\n",
       "      <th>...</th>\n",
       "      <th>Department Name</th>\n",
       "      <th>Program Description</th>\n",
       "      <th>Budget Reference Description</th>\n",
       "      <th>Fund Description</th>\n",
       "      <th>Monetary Amount</th>\n",
       "      <th>Program Code</th>\n",
       "      <th>Fund Group</th>\n",
       "      <th>Vendor Name</th>\n",
       "      <th>_id</th>\n",
       "      <th>Fund Code</th>\n",
       "    </tr>\n",
       "  </thead>\n",
       "  <tbody>\n",
       "    <tr>\n",
       "      <th>0</th>\n",
       "      <td>Information Technology</td>\n",
       "      <td>Budget Act</td>\n",
       "      <td>5</td>\n",
       "      <td>IT Supplies (Paper, Toner, etc</td>\n",
       "      <td>0.057309</td>\n",
       "      <td>8570</td>\n",
       "      <td>General Government</td>\n",
       "      <td>None</td>\n",
       "      <td>Operating Expense &amp; Equipment</td>\n",
       "      <td>2019</td>\n",
       "      <td>...</td>\n",
       "      <td>Dept of Food &amp; Agriculture</td>\n",
       "      <td>Clearing Account</td>\n",
       "      <td>BA State Operations-Support001</td>\n",
       "      <td>General Fund</td>\n",
       "      <td>266.7</td>\n",
       "      <td>9999000</td>\n",
       "      <td>General Fund</td>\n",
       "      <td>RASIX COMPUTER CENTER</td>\n",
       "      <td>253884</td>\n",
       "      <td>0001</td>\n",
       "    </tr>\n",
       "    <tr>\n",
       "      <th>1</th>\n",
       "      <td>Information Technology</td>\n",
       "      <td>Budget Act</td>\n",
       "      <td>5</td>\n",
       "      <td>IT Supplies (Paper, Toner, etc</td>\n",
       "      <td>0.057309</td>\n",
       "      <td>4150</td>\n",
       "      <td>Health and Human Services</td>\n",
       "      <td>None</td>\n",
       "      <td>Operating Expense &amp; Equipment</td>\n",
       "      <td>2019</td>\n",
       "      <td>...</td>\n",
       "      <td>Dept of Managed Health Care</td>\n",
       "      <td>Health Plan Program</td>\n",
       "      <td>BA State Operations-Support001</td>\n",
       "      <td>Managed Care Fund</td>\n",
       "      <td>140.1</td>\n",
       "      <td>3870000</td>\n",
       "      <td>Special Funds</td>\n",
       "      <td>RASIX COMPUTER CENTER</td>\n",
       "      <td>318</td>\n",
       "      <td>0933</td>\n",
       "    </tr>\n",
       "    <tr>\n",
       "      <th>2</th>\n",
       "      <td>Information Technology</td>\n",
       "      <td>Budget Act</td>\n",
       "      <td>5</td>\n",
       "      <td>IT Supplies (Paper, Toner, etc</td>\n",
       "      <td>0.057309</td>\n",
       "      <td>4150</td>\n",
       "      <td>Health and Human Services</td>\n",
       "      <td>None</td>\n",
       "      <td>Operating Expense &amp; Equipment</td>\n",
       "      <td>2019</td>\n",
       "      <td>...</td>\n",
       "      <td>Dept of Managed Health Care</td>\n",
       "      <td>Health Plan Program</td>\n",
       "      <td>BA State Operations-Support001</td>\n",
       "      <td>Managed Care Fund</td>\n",
       "      <td>140.1</td>\n",
       "      <td>3870000</td>\n",
       "      <td>Special Funds</td>\n",
       "      <td>RASIX COMPUTER CENTER</td>\n",
       "      <td>319</td>\n",
       "      <td>0933</td>\n",
       "    </tr>\n",
       "    <tr>\n",
       "      <th>3</th>\n",
       "      <td>Information Technology</td>\n",
       "      <td>Budget Act</td>\n",
       "      <td>5</td>\n",
       "      <td>IT Supplies (Paper, Toner, etc</td>\n",
       "      <td>0.057309</td>\n",
       "      <td>4150</td>\n",
       "      <td>Health and Human Services</td>\n",
       "      <td>None</td>\n",
       "      <td>Operating Expense &amp; Equipment</td>\n",
       "      <td>2019</td>\n",
       "      <td>...</td>\n",
       "      <td>Dept of Managed Health Care</td>\n",
       "      <td>Health Plan Program</td>\n",
       "      <td>BA State Operations-Support001</td>\n",
       "      <td>Managed Care Fund</td>\n",
       "      <td>214.48</td>\n",
       "      <td>3870000</td>\n",
       "      <td>Special Funds</td>\n",
       "      <td>RASIX COMPUTER CENTER</td>\n",
       "      <td>320</td>\n",
       "      <td>0933</td>\n",
       "    </tr>\n",
       "    <tr>\n",
       "      <th>4</th>\n",
       "      <td>Information Technology</td>\n",
       "      <td>Budget Act</td>\n",
       "      <td>5</td>\n",
       "      <td>IT Supplies (Paper, Toner, etc</td>\n",
       "      <td>0.057309</td>\n",
       "      <td>5175</td>\n",
       "      <td>Health and Human Services</td>\n",
       "      <td>None</td>\n",
       "      <td>Operating Expense &amp; Equipment</td>\n",
       "      <td>2018</td>\n",
       "      <td>...</td>\n",
       "      <td>Dept of Child Support Services</td>\n",
       "      <td>Clearing Account</td>\n",
       "      <td>BA State Operations-Support001</td>\n",
       "      <td>General Fund</td>\n",
       "      <td>5186.6</td>\n",
       "      <td>9999000</td>\n",
       "      <td>General Fund</td>\n",
       "      <td>ABLEGOV INC</td>\n",
       "      <td>2044</td>\n",
       "      <td>0001</td>\n",
       "    </tr>\n",
       "  </tbody>\n",
       "</table>\n",
       "<p>5 rows × 28 columns</p>\n",
       "</div>"
      ],
      "text/plain": [
       "         Account Category Budget Reference Sub-Category Accounting Period  \\\n",
       "0  Information Technology                    Budget Act                 5   \n",
       "1  Information Technology                    Budget Act                 5   \n",
       "2  Information Technology                    Budget Act                 5   \n",
       "3  Information Technology                    Budget Act                 5   \n",
       "4  Information Technology                    Budget Act                 5   \n",
       "\n",
       "              Account Description      rank Business Unit  \\\n",
       "0  IT Supplies (Paper, Toner, etc  0.057309          8570   \n",
       "1  IT Supplies (Paper, Toner, etc  0.057309          4150   \n",
       "2  IT Supplies (Paper, Toner, etc  0.057309          4150   \n",
       "3  IT Supplies (Paper, Toner, etc  0.057309          4150   \n",
       "4  IT Supplies (Paper, Toner, etc  0.057309          5175   \n",
       "\n",
       "                 Agency Name Related Document                   Account Type  \\\n",
       "0         General Government             None  Operating Expense & Equipment   \n",
       "1  Health and Human Services             None  Operating Expense & Equipment   \n",
       "2  Health and Human Services             None  Operating Expense & Equipment   \n",
       "3  Health and Human Services             None  Operating Expense & Equipment   \n",
       "4  Health and Human Services             None  Operating Expense & Equipment   \n",
       "\n",
       "  Year of Enactment  ...                 Department Name  Program Description  \\\n",
       "0              2019  ...      Dept of Food & Agriculture     Clearing Account   \n",
       "1              2019  ...     Dept of Managed Health Care  Health Plan Program   \n",
       "2              2019  ...     Dept of Managed Health Care  Health Plan Program   \n",
       "3              2019  ...     Dept of Managed Health Care  Health Plan Program   \n",
       "4              2018  ...  Dept of Child Support Services     Clearing Account   \n",
       "\n",
       "     Budget Reference Description   Fund Description Monetary Amount  \\\n",
       "0  BA State Operations-Support001       General Fund           266.7   \n",
       "1  BA State Operations-Support001  Managed Care Fund           140.1   \n",
       "2  BA State Operations-Support001  Managed Care Fund           140.1   \n",
       "3  BA State Operations-Support001  Managed Care Fund          214.48   \n",
       "4  BA State Operations-Support001       General Fund          5186.6   \n",
       "\n",
       "  Program Code     Fund Group            Vendor Name     _id Fund Code  \n",
       "0      9999000   General Fund  RASIX COMPUTER CENTER  253884      0001  \n",
       "1      3870000  Special Funds  RASIX COMPUTER CENTER     318      0933  \n",
       "2      3870000  Special Funds  RASIX COMPUTER CENTER     319      0933  \n",
       "3      3870000  Special Funds  RASIX COMPUTER CENTER     320      0933  \n",
       "4      9999000   General Fund            ABLEGOV INC    2044      0001  \n",
       "\n",
       "[5 rows x 28 columns]"
      ]
     },
     "metadata": {},
     "output_type": "display_data"
    },
    {
     "name": "stdout",
     "output_type": "stream",
     "text": [
      "<class 'pandas.core.frame.DataFrame'>\n",
      "RangeIndex: 35016 entries, 0 to 35015\n",
      "Data columns (total 28 columns):\n",
      "Account Category                 35016 non-null object\n",
      "Budget Reference Sub-Category    35016 non-null object\n",
      "Accounting Period                35016 non-null object\n",
      "Account Description              35016 non-null object\n",
      "rank                             35016 non-null float64\n",
      "Business Unit                    35016 non-null object\n",
      "Agency Name                      35016 non-null object\n",
      "Related Document                 0 non-null object\n",
      "Account Type                     35016 non-null object\n",
      "Year of Enactment                35016 non-null object\n",
      "Budget Reference Category        35016 non-null object\n",
      "Budget Reference                 35016 non-null object\n",
      "Sub-Program Description          35016 non-null object\n",
      "Accounting Date                  35016 non-null object\n",
      "Account Sub-Category             35016 non-null object\n",
      "Fiscal Year Begin                35016 non-null object\n",
      "Account                          35016 non-null object\n",
      "Document ID                      35016 non-null object\n",
      "Department Name                  35016 non-null object\n",
      "Program Description              35016 non-null object\n",
      "Budget Reference Description     35016 non-null object\n",
      "Fund Description                 35016 non-null object\n",
      "Monetary Amount                  35016 non-null object\n",
      "Program Code                     35016 non-null object\n",
      "Fund Group                       35016 non-null object\n",
      "Vendor Name                      35016 non-null object\n",
      "_id                              35016 non-null int64\n",
      "Fund Code                        35016 non-null object\n",
      "dtypes: float64(1), int64(1), object(26)\n",
      "memory usage: 7.5+ MB\n"
     ]
    },
    {
     "data": {
      "text/plain": [
       "None"
      ]
     },
     "metadata": {},
     "output_type": "display_data"
    }
   ],
   "source": [
    "# url for API\n",
    "url = 'https://catalog.ogopendata.com/api/3/action/datastore_search?'\n",
    "\n",
    "# search text\n",
    "search_text = 'paper'\n",
    "\n",
    "# create an empty list to hold responses for the dataframe\n",
    "df_list = []\n",
    "\n",
    "for x in resource_dictionary:\n",
    "    \n",
    "    # the API limits us to 32000 rows of data, so we need to send a new request every 32000 rows\n",
    "    # this parameter allows us to skip rows for each request\n",
    "    offset = 0\n",
    "\n",
    "    # set response length > 0 to initialize the loop below\n",
    "    response_length = 1\n",
    "    \n",
    "    # set resource id\n",
    "    resource_id = x['resource_id']\n",
    "    \n",
    "    # continue to make http requests as long as we keep getting responses\n",
    "    print(f\"Requesting {x['description']}\")\n",
    "    while response_length > 0: \n",
    "\n",
    "        # these are the paramaters we send with the http API request\n",
    "        params = {\n",
    "            'resource_id' : resource_id,\n",
    "            'q' : search_text,\n",
    "            'plain' : False,\n",
    "            'limit' : 1000000, # the default is 100, we need more than that\n",
    "            'offset' : offset # this will increase by 32000 for each request\n",
    "        }\n",
    "\n",
    "        # get the response\n",
    "        response = requests.get(url, params=params).json()\n",
    "\n",
    "        # loop through each transaction in the response and append to our list\n",
    "        for x in response['result']['records']:\n",
    "            df_list.append(x)\n",
    "\n",
    "        # increase offset since we only get 32000 rows per response\n",
    "        offset += 32000\n",
    "\n",
    "        # set the response length so the loop stops when we no longer return any data\n",
    "        response_length = len(response['result']['records'])\n",
    "\n",
    "# turn the df_list into a pandas dataframe\n",
    "df = pd.DataFrame(df_list)\n",
    "\n",
    "# preview the dataframe and show some info about the dataframe\n",
    "display(df.head())\n",
    "display(df.info())"
   ]
  },
  {
   "cell_type": "code",
   "execution_count": null,
   "metadata": {},
   "outputs": [],
   "source": []
  }
 ],
 "metadata": {
  "kernelspec": {
   "display_name": "Python 3",
   "language": "python",
   "name": "python3"
  },
  "language_info": {
   "codemirror_mode": {
    "name": "ipython",
    "version": 3
   },
   "file_extension": ".py",
   "mimetype": "text/x-python",
   "name": "python",
   "nbconvert_exporter": "python",
   "pygments_lexer": "ipython3",
   "version": "3.7.5"
  }
 },
 "nbformat": 4,
 "nbformat_minor": 4
}
